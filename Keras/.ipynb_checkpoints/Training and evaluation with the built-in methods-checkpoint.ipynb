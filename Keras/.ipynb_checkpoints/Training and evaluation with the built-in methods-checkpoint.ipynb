{
 "cells": [
  {
   "cell_type": "markdown",
   "metadata": {},
   "source": [
    "# Training and evaluation with the built-in methods"
   ]
  },
  {
   "cell_type": "markdown",
   "metadata": {},
   "source": [
    "## Setup\n",
    "## 环境设置"
   ]
  },
  {
   "cell_type": "code",
   "execution_count": 1,
   "metadata": {},
   "outputs": [],
   "source": [
    "import tensorflow as tf\n",
    "from tensorflow import keras\n",
    "from tensorflow.keras import layers"
   ]
  },
  {
   "cell_type": "markdown",
   "metadata": {},
   "source": [
    "## Introduction\n",
    "## 章节介绍\n",
    "This guide covers training, evaluation, and prediction (inference) models when using built-in APIs for training & validation (such as Model.fit(), Model.evaluate() and Model.predict()).\n",
    "\n",
    "If you are interested in leveraging fit() while specifying your own training step function, see the [Customizing what happens in fit() guide.](https://www.tensorflow.org/guide/keras/customizing_what_happens_in_fit/)\n",
    "\n",
    "If you are interested in writing your own training & evaluation loops from scratch, see the guide [\"writing a training loop from scratch\".](https://www.tensorflow.org/guide/keras/writing_a_training_loop_from_scratch/)\n",
    "\n",
    "In general, whether you are using built-in loops or writing your own, model training & evaluation works strictly in the same way across every kind of Keras model -- Sequential models, models built with the Functional API, and models written from scratch via model subclassing.\n",
    "\n",
    "This guide doesn't cover distributed training, which is covered in our guide to [multi-GPU & distributed training.](https://keras.io/guides/distributed_training/)\n",
    "\n",
    "本指南涵盖了使用内置API（如Model.fit(), Model.evaluate() 和 Model.predict()）进行训练时的训练、评估和预测模型\n",
    "\n",
    "\n",
    "如果你对在指定训练模型训练步骤函数的同时应用fit（），请参考这篇[指南](https://www.tensorflow.org/guide/keras/customizing_what_happens_in_fit/)\n",
    "\n",
    "如果你对从零开始构建自己的训练/评估循环有兴趣，请参阅这篇这篇[指南](https://www.tensorflow.org/guide/keras/writing_a_training_loop_from_scratch/)\n",
    "\n",
    "一般而言，无论你是使用内置的指令或者自己构建的指令，对于Keras的各类模型（顺序模型，函数式模型，通过模型子类构建的新模型）而言，其训练和评估过程是严格按照相同的方式进行的\n",
    "\n",
    "这篇指南没有包含分布式训练的内容，这部分内容请查阅这篇[指南](https://keras.io/guides/distributed_training/)"
   ]
  },
  {
   "cell_type": "markdown",
   "metadata": {},
   "source": [
    "## API overview: a first end-to-end example\n",
    "## API概述：一个端到端的示例\n",
    "\n",
    "When passing data to the built-in training loops of a model, you should either use NumPy arrays (if your data is small and fits in memory) or tf.data Dataset objects. In the next few paragraphs, we'll use the MNIST dataset as NumPy arrays, in order to demonstrate how to use optimizers, losses, and metrics.\n",
    "\n",
    "Let's consider the following model (here, we build in with the Functional API, but it could be a Sequential model or a subclassed model as well):\n",
    "\n",
    "当你传递数据到一个模型的内置训练循环时，你可以选择使用Numoy数组（如果你的数据比较小且可以在内存中进行训练）或者tf.data数据集对象（来进行传递）。在接下来的部分里，我们将使用Numpy数组格式的MNIST数据集来演示如何设置优化器，损失函数和评估指标\n",
    "\n",
    "让我们来看看接下来的模型（演示用的模型是用函数式API构建的，但1其实它可以用顺序模型或者模型子类来进行构建）"
   ]
  },
  {
   "cell_type": "code",
   "execution_count": 2,
   "metadata": {},
   "outputs": [],
   "source": [
    "inputs = keras.Input(shape=(784,), name=\"digits\")\n",
    "x = layers.Dense(64, activation=\"relu\", name=\"dense_1\")(inputs)\n",
    "x = layers.Dense(64, activation=\"relu\", name=\"dense_2\")(x)\n",
    "outputs = layers.Dense(10, activation=\"softmax\", name=\"predictions\")(x)\n",
    "\n",
    "model = keras.Model(inputs=inputs, outputs=outputs)"
   ]
  },
  {
   "cell_type": "markdown",
   "metadata": {},
   "source": [
    "Here's what the typical end-to-end workflow looks like, consisting of:\n",
    "1. Training\n",
    "2. Validation on a holdout set generated from the original training data\n",
    "3. Evaluation on the test data\n",
    "\n",
    "一个典型的端到端模型工作流程如下：\n",
    "1. 训练\n",
    "2. 使用原始数据集上生成的验证集机型模型验证\n",
    "3. 使用测试数据对模型进行评估"
   ]
  },
  {
   "cell_type": "code",
   "execution_count": 3,
   "metadata": {},
   "outputs": [],
   "source": [
    "# use MNIST data for this example\n",
    "# 使用MNIST数据进行演示\n",
    "\n",
    "(x_train, y_train), (x_test, y_test) = keras.datasets.mnist.load_data()\n",
    "\n",
    "# Preprocess the data (these are NumPy arrays)\n",
    "# 数据处理（数据结类型是Numpy数组）\n",
    "x_train = x_train.reshape(60000, 784).astype(\"float32\") / 255\n",
    "x_test = x_test.reshape(10000, 784).astype(\"float32\") / 255\n",
    "\n",
    "y_train = y_train.astype(\"float32\")\n",
    "y_test = y_test.astype(\"float32\")\n",
    "\n",
    "# Reserve 10,000 samples for validation\n",
    "x_val = x_train[-10000:]\n",
    "y_val = y_train[-10000:]\n",
    "x_train = x_train[:-10000]\n",
    "y_train = y_train[:-10000]"
   ]
  },
  {
   "cell_type": "code",
   "execution_count": 7,
   "metadata": {},
   "outputs": [],
   "source": [
    "# specify the training configuration (optimizer, loss, metrics)\n",
    "# 设定训练配置（优化器，损失函数和评估指标）\n",
    "model.compile(\n",
    "    optimizer=keras.optimizers.RMSprop(),  # Optimizer 优化器\n",
    "    # Loss function to minimize 损失函数最小化\n",
    "    loss=keras.losses.SparseCategoricalCrossentropy(),\n",
    "    # List of metrics to monitor 采用一系列指标来进行监测\n",
    "    metrics=[keras.metrics.SparseCategoricalAccuracy()],\n",
    ")"
   ]
  },
  {
   "cell_type": "markdown",
   "metadata": {},
   "source": [
    "We call fit(), which will train the model by slicing the data into \"batches\" of size batch_size, and repeatedly iterating over the entire dataset for a given number of epochs.\n",
    "我们调用fit（）方法，这会开始训练模型：数据将会根据所设定的批量大量划分为多个数据批量，然后模型会训练整个数据集，只到训练次数达到我们所设定的次数"
   ]
  },
  {
   "cell_type": "code",
   "execution_count": 8,
   "metadata": {},
   "outputs": [
    {
     "name": "stdout",
     "output_type": "stream",
     "text": [
      "Fit model on training data\n",
      "Epoch 1/2\n",
      "782/782 [==============================] - 3s 3ms/step - loss: 0.5777 - sparse_categorical_accuracy: 0.8384 - val_loss: 0.2166 - val_sparse_categorical_accuracy: 0.9382\n",
      "Epoch 2/2\n",
      "782/782 [==============================] - 2s 2ms/step - loss: 0.1754 - sparse_categorical_accuracy: 0.9482 - val_loss: 0.1353 - val_sparse_categorical_accuracy: 0.9614\n"
     ]
    }
   ],
   "source": [
    "print(\"Fit model on training data\")\n",
    "history = model.fit(\n",
    "    x_train,\n",
    "    y_train,\n",
    "    batch_size=64,\n",
    "    epochs=2,\n",
    "    # We pass some validation for\n",
    "    # monitoring validation loss and metrics\n",
    "    # at the end of each epoch\n",
    "    # 每一次训练结束后，我们通过返回模型验证信息，来监控验证损失和指标\n",
    "    validation_data=(x_val, y_val),\n",
    ")"
   ]
  },
  {
   "cell_type": "code",
   "execution_count": 9,
   "metadata": {},
   "outputs": [
    {
     "data": {
      "text/plain": [
       "{'loss': [0.3442656397819519, 0.1592882126569748],\n",
       " 'sparse_categorical_accuracy': [0.9027000069618225, 0.9524800181388855],\n",
       " 'val_loss': [0.21663400530815125, 0.1353076845407486],\n",
       " 'val_sparse_categorical_accuracy': [0.9381999969482422, 0.9613999724388123]}"
      ]
     },
     "execution_count": 9,
     "metadata": {},
     "output_type": "execute_result"
    }
   ],
   "source": [
    "# The returned history object holds a record of the loss values and metric values during training\n",
    "# 返回history对象，这个对象记录了训练过程中的损失值和指标值\n",
    "history.history"
   ]
  },
  {
   "cell_type": "code",
   "execution_count": 10,
   "metadata": {},
   "outputs": [
    {
     "name": "stdout",
     "output_type": "stream",
     "text": [
      "Evaluate on test data\n",
      "79/79 [==============================] - 0s 1ms/step - loss: 0.1358 - sparse_categorical_accuracy: 0.9603\n",
      "test loss, test acc: [0.13578011095523834, 0.9603000283241272]\n",
      "Generate predictions for 3 samples\n",
      "predictions shape: (3, 10)\n"
     ]
    }
   ],
   "source": [
    "# We evaluate the model on the test data via evaluate()\n",
    "# 我们通过evaluate（）方法，在测试集上对模型进行评估\n",
    "print(\"Evaluate on test data\")\n",
    "results = model.evaluate(x_test, y_test, batch_size=128)\n",
    "print(\"test loss, test acc:\", results)\n",
    "\n",
    "# Generate predictions (probabilities -- the output of the last layer)\n",
    "# 输出预测值（最后一层的输出：概率）\n",
    "# on new data using `predict`\n",
    "# 在新的数据上应用predict（）方法\n",
    "print(\"Generate predictions for 3 samples\")\n",
    "predictions = model.predict(x_test[:3])\n",
    "print(\"predictions shape:\", predictions.shape)"
   ]
  },
  {
   "cell_type": "markdown",
   "metadata": {},
   "source": [
    "Now, let's review each piece of this workflow in detail.\n",
    "\n",
    "现在，让我们详细回顾这一工作流程的中每一个部分"
   ]
  },
  {
   "cell_type": "markdown",
   "metadata": {},
   "source": [
    "## The compile() method: specifying a loss, metrics, and an optimizer\n",
    "## compile()方法：设定损失函数，指标和优化器 \n",
    "\n",
    "To train a model with fit(), you need to specify a loss function, an optimizer, and optionally, some metrics to monitor.\n",
    "\n",
    "You pass these to the model as arguments to the compile() method:\n",
    "\n",
    "为了用fit（）方法训练模型，你需要先设定好损失函数，优化器，以及一些监控指标（如果有需要的话）\n",
    "\n",
    "你将这些信息作为参数，通过compile（）方法将其传递给模型"
   ]
  },
  {
   "cell_type": "code",
   "execution_count": 11,
   "metadata": {},
   "outputs": [],
   "source": [
    "model.compile(\n",
    "    optimizer=keras.optimizers.RMSprop(learning_rate=1e-3),\n",
    "    loss=keras.losses.SparseCategoricalCrossentropy(),\n",
    "    metrics=[keras.metrics.SparseCategoricalAccuracy()],\n",
    ")"
   ]
  },
  {
   "cell_type": "markdown",
   "metadata": {},
   "source": [
    "The metrics argument should be a list -- your model can have any number of metrics.\n",
    "\n",
    "If your model has multiple outputs, you can specify different losses and metrics for each output, and you can modulate the contribution of each output to the total loss of the model. You will find more details about this in the **Passing data to multi-input, multi-output models** section.\n",
    "\n",
    "指标参数可以是一个列表，这意味着你的模型可以有多个评估指标\n",
    "\n",
    "如果你的模型有多种输出，你可以为每一类输出设定不同的损失函数和指标，还可以控制每一类数据对模型整体损失的贡献。你可以在**传递数据给多输入/输出模型**一节了解到更多关于这一内容的细节"
   ]
  },
  {
   "cell_type": "markdown",
   "metadata": {},
   "source": [
    "Note that if you're satisfied with the default settings, in many cases the optimizer, loss, and metrics can be specified via string identifiers as a shortcut:\n",
    "\n",
    "注意：如果你对默认设置感到满意，在很多情况下，可以用字符串作为一个快捷方式来对优化器、损失函数和指标进行设置。"
   ]
  },
  {
   "cell_type": "code",
   "execution_count": 12,
   "metadata": {},
   "outputs": [],
   "source": [
    "model.compile(\n",
    "    optimizer=\"rmsprop\",\n",
    "    loss=\"sparse_categorical_crossentropy\",\n",
    "    metrics=[\"sparse_categorical_accuracy\"],\n",
    ")"
   ]
  },
  {
   "cell_type": "markdown",
   "metadata": {},
   "source": [
    "For later reuse, let's put our model definition and compile step in functions; we will call them several times across different examples in this guide.\n",
    "\n",
    "为了之后可以复用，我们将模型的定义和汇编过程分别定义成函数。在这篇指南中，我们将在多个不同的示例中调用这些函数。"
   ]
  },
  {
   "cell_type": "code",
   "execution_count": 13,
   "metadata": {},
   "outputs": [],
   "source": [
    "def get_uncompiled_model():\n",
    "    inputs = keras.Input(shape=(784,), name=\"digits\")\n",
    "    x = layers.Dense(64, activation=\"relu\", name=\"dense_1\")(inputs)\n",
    "    x = layers.Dense(64, activation=\"relu\", name=\"dense_2\")(x)\n",
    "    outputs = layers.Dense(10, activation=\"softmax\", name=\"predictions\")(x)\n",
    "    model = keras.Model(inputs=inputs, outputs=outputs)\n",
    "    return model\n",
    "\n",
    "\n",
    "def get_compiled_model():\n",
    "    model = get_uncompiled_model()\n",
    "    model.compile(\n",
    "        optimizer=\"rmsprop\",\n",
    "        loss=\"sparse_categorical_crossentropy\",\n",
    "        metrics=[\"sparse_categorical_accuracy\"],\n",
    "    )\n",
    "    return model"
   ]
  },
  {
   "cell_type": "markdown",
   "metadata": {},
   "source": [
    "### Many built-in optimizers, losses, and metrics are available\n",
    "### 一些可用的内置优化器，损失函数和指标\n",
    "\n",
    "In general, you won't have to create your own losses, metrics, or optimizers from scratch, because what you need is likely to be already part of the Keras API:\n",
    "\n",
    "Optimizers:\n",
    "1. SGD() (with or without momentum)\n",
    "2. RMSprop()\n",
    "3. Adam()\n",
    "4. etc.\n",
    "\n",
    "Losses:\n",
    "1. MeanSquaredError()\n",
    "2. KLDivergence()\n",
    "3. CosineSimilarity()\n",
    "4. etc.\n",
    "\n",
    "Metrics:\n",
    "1. AUC()\n",
    "2. Precision()\n",
    "3. Recall()\n",
    "4. etc.\n",
    "\n",
    "一般而言，你并不需要从头创建一个损失函数、指标或者优化器，因为你需要的东西很可能已经内置进了KerasAPI\n",
    "\n",
    "优化器：\n",
    "1. SGD() (with or without momentum)\n",
    "2. RMSprop()\n",
    "3. Adam()\n",
    "4. etc.\n",
    "\n",
    "损失函数：\n",
    "1. MeanSquaredError()\n",
    "2. KLDivergence()\n",
    "3. CosineSimilarity()\n",
    "4. etc.\n",
    "\n",
    "指标：\n",
    "1. AUC()\n",
    "2. Precision()\n",
    "3. Recall()\n",
    "4. etc."
   ]
  },
  {
   "cell_type": "markdown",
   "metadata": {},
   "source": [
    "### Custom losses\n",
    "### 自定义损失函数\n",
    "If you need to create a custom loss, Keras provides two ways to do so.\n",
    "\n",
    "The first method involves creating a function that accepts inputs y_true and y_pred. The following example shows a loss function that computes the mean squared error between the real data and the predictions\n",
    "\n",
    "如果你需要创造一个自定义损失函数，Keras提供了两种方法。\n",
    "\n",
    "第一种方式是创造一个函数，将真实值和预测值作为输入。 接下来的例子展示了一个计算均方误差的损失函数"
   ]
  },
  {
   "cell_type": "code",
   "execution_count": 14,
   "metadata": {},
   "outputs": [
    {
     "name": "stdout",
     "output_type": "stream",
     "text": [
      "782/782 [==============================] - 2s 2ms/step - loss: 0.0278\n"
     ]
    },
    {
     "data": {
      "text/plain": [
       "<tensorflow.python.keras.callbacks.History at 0x1dce330cb20>"
      ]
     },
     "execution_count": 14,
     "metadata": {},
     "output_type": "execute_result"
    }
   ],
   "source": [
    "def custom_mean_squared_error(y_true, y_pred):\n",
    "    return tf.math.reduce_mean(tf.square(y_true - y_pred))\n",
    "\n",
    "\n",
    "model = get_uncompiled_model()\n",
    "model.compile(optimizer=keras.optimizers.Adam(), loss=custom_mean_squared_error)\n",
    "\n",
    "# We need to one-hot encode the labels to use MSE\n",
    "y_train_one_hot = tf.one_hot(y_train, depth=10)\n",
    "model.fit(x_train, y_train_one_hot, batch_size=64, epochs=1)"
   ]
  },
  {
   "cell_type": "markdown",
   "metadata": {},
   "source": [
    "If you need a loss function that takes in parameters beside y_true and y_pred, you can subclass the tf.keras.losses.Loss class and implement the following two methods:\n",
    "\n",
    "1. __init__(self): accept parameters to pass during the call of your loss function\n",
    "2. call(self, y_true, y_pred): use the targets (y_true) and the model predictions (y_pred) to compute the model's loss\n",
    "\n",
    "\n",
    "Let's say you want to use mean squared error, but with an added term that will de-incentivize prediction values far from 0.5 (we assume that the categorical targets are one-hot encoded and take values between 0 and 1). This creates an incentive for the model not to be too confident, which may help reduce overfitting (we won't know if it works until we try!).\n",
    "\n",
    "如果你需要一个损失函数，其参数不仅是真实值和预测值，那么你可以构建一个tf.keras.losses.Loss的类。这需要调用两个方法来实现：\n",
    "1. __init__(self): 接受参数并在调用损失函数时传递给它\n",
    "2. 调用(self, y_true, y_pred)： 用真实值和模型预测值来计算模型损失\n",
    "\n",
    "我们假设你打算使用均方误差，但是加入一个新的项来惩罚那些远离0.5的值（假设分类变量是独热编码的（0-1）），这会形成一种激励，让模型不那么自信（不容易预测为0或者1，因为远离0.5会带来额外的损失惩罚），这样有助于减少过拟合问题（在实验在这个新想法之前，我们都无法知道它是否有效）"
   ]
  },
  {
   "cell_type": "code",
   "execution_count": 15,
   "metadata": {},
   "outputs": [
    {
     "name": "stdout",
     "output_type": "stream",
     "text": [
      "782/782 [==============================] - 2s 2ms/step - loss: 0.0489\n"
     ]
    },
    {
     "data": {
      "text/plain": [
       "<tensorflow.python.keras.callbacks.History at 0x1dce49a3cd0>"
      ]
     },
     "execution_count": 15,
     "metadata": {},
     "output_type": "execute_result"
    }
   ],
   "source": [
    "class CustomMSE(keras.losses.Loss):\n",
    "    def __init__(self, regularization_factor=0.1, name=\"custom_mse\"):\n",
    "        super().__init__(name=name)\n",
    "        self.regularization_factor = regularization_factor\n",
    "\n",
    "    def call(self, y_true, y_pred):\n",
    "        mse = tf.math.reduce_mean(tf.square(y_true - y_pred))\n",
    "        reg = tf.math.reduce_mean(tf.square(0.5 - y_pred))\n",
    "        return mse + reg * self.regularization_factor\n",
    "\n",
    "\n",
    "model = get_uncompiled_model()\n",
    "model.compile(optimizer=keras.optimizers.Adam(), loss=CustomMSE())\n",
    "\n",
    "y_train_one_hot = tf.one_hot(y_train, depth=10)\n",
    "model.fit(x_train, y_train_one_hot, batch_size=64, epochs=1)"
   ]
  },
  {
   "cell_type": "markdown",
   "metadata": {},
   "source": [
    "### Custom metrics\n",
    "### 自定义指标\n",
    "If you need a metric that isn't part of the API, you can easily create custom metrics by subclassing the tf.keras.metrics.Metric class. You will need to implement 4 methods:\n",
    "\n",
    "1. __init__(self), in which you will create state variables for your metric.\n",
    "2. update_state(self, y_true, y_pred, sample_weight=None), which uses the targets y_true and the model predictions y_pred to update the state variables.\n",
    "3. result(self), which uses the state variables to compute the final results.\n",
    "4. reset_states(self), which reinitializes the state of the metric.\n",
    "\n",
    "State update and results computation are kept separate (in update_state() and result(), respectively) because in some cases, the results computation might be very expensive and would only be done periodically.\n",
    "\n",
    "如果你需要一个没有收录在API中的指标，你可以轻易地通过tf.keras.metrics.Metric类来创建一个自定义指标。你需要通过调用四个方法来实现：\n",
    "1. __init__(self)，在这里你可以为你的指标创建一个静态变量\n",
    "2. update_state(self, y_true, y_pred, sample_weight=None),这将使用真实值和预测值来更新这个静态变量\n",
    "3. result(self), 这个方法将用静态变量来计算最终结果\n",
    "4. reset_states(self)，这个方法将重新初始化这个指标的状态（以备下一次使用）\n",
    "\n",
    "状态更新和结果计算是分离的（两者分别在update_state() 和result()中进行）,因为在一些情况下，结果计算的成本会非常高，并且是周期性的"
   ]
  },
  {
   "cell_type": "markdown",
   "metadata": {},
   "source": [
    "Here's a simple example showing how to implement a CategoricalTruePositives metric that counts how many samples were correctly classified as belonging to a given class:\n",
    "\n",
    "这里是一个展示实现CategoricalTruePositives指标例子。这个指标会统计有多少样本被正确的分类到了所给予的类别中"
   ]
  },
  {
   "cell_type": "code",
   "execution_count": null,
   "metadata": {},
   "outputs": [],
   "source": [
    "class CategoricalTruePositives(keras.metrics.Metric):\n",
    "    def __init__(self, name=\"categorical_true_positives\", **kwargs):\n",
    "        super(CategoricalTruePositives, self).__init__(name=name, **kwargs)\n",
    "        self.true_positives = self.add_weight(name=\"ctp\", initializer=\"zeros\")\n",
    "\n",
    "    def update_state(self, y_true, y_pred, sample_weight=None):\n",
    "        y_pred = tf.reshape(tf.argmax(y_pred, axis=1), shape=(-1, 1))\n",
    "        values = tf.cast(y_true, \"int32\") == tf.cast(y_pred, \"int32\")\n",
    "        values = tf.cast(values, \"float32\")\n",
    "        if sample_weight is not None:\n",
    "            sample_weight = tf.cast(sample_weight, \"float32\")\n",
    "            values = tf.multiply(values, sample_weight)\n",
    "        self.true_positives.assign_add(tf.reduce_sum(values))\n",
    "\n",
    "    def result(self):\n",
    "        return self.true_positives\n",
    "\n",
    "    def reset_states(self):\n",
    "        # The state of the metric will be reset at the start of each epoch.\n",
    "        # 在每一次的训练后，指标会被重置为初始状态\n",
    "        self.true_positives.assign(0.0)\n",
    "\n",
    "\n",
    "model = get_uncompiled_model()\n",
    "model.compile(\n",
    "    optimizer=keras.optimizers.RMSprop(learning_rate=1e-3),\n",
    "    loss=keras.losses.SparseCategoricalCrossentropy(),\n",
    "    metrics=[CategoricalTruePositives()],\n",
    ")\n",
    "model.fit(x_train, y_train, batch_size=64, epochs=3)"
   ]
  },
  {
   "cell_type": "markdown",
   "metadata": {},
   "source": [
    "### Handling losses and metrics that don't fit the standard signature\n",
    "### 处理不符合一般规范的损失函数和指标\n",
    "\n",
    "The overwhelming majority of losses and metrics can be computed from y_true and y_pred, where y_pred is an output of your model -- but not all of them. For instance, a regularization loss may only require the activation of a layer (there are no targets in this case), and this activation may not be a model output.\n",
    "\n",
    "In such cases, you can call self.add_loss(loss_value) from inside the call method of a custom layer. Losses added in this way get added to the \"main\" loss during training (the one passed to compile()). Here's a simple example that adds activity regularization (note that activity regularization is built-in in all Keras layers -- this layer is just for the sake of providing a concrete example):\n",
    "\n",
    "绝大部分的损失函数和指标都是基于真实值和预测值的（预测值就是模型的输出），但并不是所有的皆是如此。例如，一个正则化损失可能只需要知道层的激活函数即可（这种情况下，没有预测变量），而且激活函数也不是模型的输出\n",
    "\n",
    "在这类情况下，你可以从自定义层的内部方法中调用self.add_loss(loss_value)方法。以这种方式添加的损失会在训练时（通过传递给compile（））加入“主要”损失之中。这里有李哥加入激活正则化（对层的输出进行正则化）的示例（注意所有的Keras层都内置了激活正则化，这里只是做一个示例）"
   ]
  },
  {
   "cell_type": "code",
   "execution_count": 17,
   "metadata": {},
   "outputs": [
    {
     "name": "stdout",
     "output_type": "stream",
     "text": [
      "782/782 [==============================] - 2s 2ms/step - loss: 3.6878\n"
     ]
    },
    {
     "data": {
      "text/plain": [
       "<tensorflow.python.keras.callbacks.History at 0x1dce20a2220>"
      ]
     },
     "execution_count": 17,
     "metadata": {},
     "output_type": "execute_result"
    }
   ],
   "source": [
    "class ActivityRegularizationLayer(layers.Layer):\n",
    "    def call(self, inputs):\n",
    "        self.add_loss(tf.reduce_sum(inputs) * 0.1)\n",
    "        return inputs  # Pass-through layer.\n",
    "\n",
    "\n",
    "inputs = keras.Input(shape=(784,), name=\"digits\")\n",
    "x = layers.Dense(64, activation=\"relu\", name=\"dense_1\")(inputs)\n",
    "\n",
    "# Insert activity regularization as a layer\n",
    "# 插入激活正则化\n",
    "x = ActivityRegularizationLayer()(x)\n",
    "\n",
    "x = layers.Dense(64, activation=\"relu\", name=\"dense_2\")(x)\n",
    "outputs = layers.Dense(10, name=\"predictions\")(x)\n",
    "\n",
    "model = keras.Model(inputs=inputs, outputs=outputs)\n",
    "model.compile(\n",
    "    optimizer=keras.optimizers.RMSprop(learning_rate=1e-3),\n",
    "    loss=keras.losses.SparseCategoricalCrossentropy(from_logits=True),\n",
    ")\n",
    "\n",
    "# The displayed loss will be much higher than before\n",
    "# 输出的损失会比之前的大很多\n",
    "# due to the regularization component.\n",
    "# 因为加入了正则项\n",
    "model.fit(x_train, y_train, batch_size=64, epochs=1)"
   ]
  },
  {
   "cell_type": "code",
   "execution_count": 18,
   "metadata": {},
   "outputs": [
    {
     "name": "stdout",
     "output_type": "stream",
     "text": [
      "782/782 [==============================] - 2s 2ms/step - loss: 0.5646 - std_of_activation: 0.9570\n"
     ]
    },
    {
     "data": {
      "text/plain": [
       "<tensorflow.python.keras.callbacks.History at 0x1dce34f06a0>"
      ]
     },
     "execution_count": 18,
     "metadata": {},
     "output_type": "execute_result"
    }
   ],
   "source": [
    "# You can do the same for logging metric values, using add_metric()\n",
    "# 你可以用add_metric()方法对日志指标做相同的事\n",
    "\n",
    "class MetricLoggingLayer(layers.Layer):\n",
    "    def call(self, inputs):\n",
    "        # The `aggregation` argument defines\n",
    "        # how to aggregate the per-batch values\n",
    "        # over each epoch:\n",
    "        # in this case we simply average them.\n",
    "        # ‘aggregation’参数定义了如何对每次训练中的每个批次进行聚合，在这里我们只需要简单地计算均值即可\n",
    "        self.add_metric(\n",
    "            keras.backend.std(inputs), name=\"std_of_activation\", aggregation=\"mean\"\n",
    "        )\n",
    "        return inputs  # Pass-through layer.\n",
    "\n",
    "\n",
    "inputs = keras.Input(shape=(784,), name=\"digits\")\n",
    "x = layers.Dense(64, activation=\"relu\", name=\"dense_1\")(inputs)\n",
    "\n",
    "# Insert std logging as a layer.\n",
    "x = MetricLoggingLayer()(x)\n",
    "\n",
    "x = layers.Dense(64, activation=\"relu\", name=\"dense_2\")(x)\n",
    "outputs = layers.Dense(10, name=\"predictions\")(x)\n",
    "\n",
    "model = keras.Model(inputs=inputs, outputs=outputs)\n",
    "model.compile(\n",
    "    optimizer=keras.optimizers.RMSprop(learning_rate=1e-3),\n",
    "    loss=keras.losses.SparseCategoricalCrossentropy(from_logits=True),\n",
    ")\n",
    "model.fit(x_train, y_train, batch_size=64, epochs=1)"
   ]
  },
  {
   "cell_type": "markdown",
   "metadata": {},
   "source": [
    "In the Functional API, you can also call model.add_loss(loss_tensor), or model.add_metric(metric_tensor, name, aggregation).\n",
    "\n",
    "在函数式API中，你同样可以调用model.add_loss(loss_tensor)或者model.add_metric(metric_tensor, name, aggregation)."
   ]
  },
  {
   "cell_type": "code",
   "execution_count": 19,
   "metadata": {},
   "outputs": [
    {
     "name": "stdout",
     "output_type": "stream",
     "text": [
      "782/782 [==============================] - 2s 2ms/step - loss: 3.2508 - std_of_activation: 0.0018\n"
     ]
    },
    {
     "data": {
      "text/plain": [
       "<tensorflow.python.keras.callbacks.History at 0x1dce9280dc0>"
      ]
     },
     "execution_count": 19,
     "metadata": {},
     "output_type": "execute_result"
    }
   ],
   "source": [
    "inputs = keras.Input(shape=(784,), name=\"digits\")\n",
    "x1 = layers.Dense(64, activation=\"relu\", name=\"dense_1\")(inputs)\n",
    "x2 = layers.Dense(64, activation=\"relu\", name=\"dense_2\")(x1)\n",
    "outputs = layers.Dense(10, name=\"predictions\")(x2)\n",
    "model = keras.Model(inputs=inputs, outputs=outputs)\n",
    "\n",
    "model.add_loss(tf.reduce_sum(x1) * 0.1)\n",
    "\n",
    "model.add_metric(keras.backend.std(x1), name=\"std_of_activation\", aggregation=\"mean\")\n",
    "\n",
    "model.compile(\n",
    "    optimizer=keras.optimizers.RMSprop(1e-3),\n",
    "    loss=keras.losses.SparseCategoricalCrossentropy(from_logits=True),\n",
    ")\n",
    "model.fit(x_train, y_train, batch_size=64, epochs=1)"
   ]
  },
  {
   "cell_type": "markdown",
   "metadata": {},
   "source": [
    "**Note** that when you pass losses via add_loss(), it becomes possible to call compile() without a loss function, since the model already has a loss to minimize.\n",
    "\n",
    "**注意** 你可以通过 add_loss()来传递损失函数，然后再调用compile（）时不加入损失函数。因为这时模型已经拥有了需要最小化的损失函数"
   ]
  },
  {
   "cell_type": "markdown",
   "metadata": {},
   "source": [
    "Consider the following LogisticEndpoint layer: it takes as inputs targets & logits, and it tracks a crossentropy loss via add_loss(). It also tracks classification accuracy via add_metric().\n",
    "\n",
    "思考接来下展示的 LogisticEndpoint层： 它将targets和logits作为输入，并且通过add_loss()方法计算交换熵损失。 它同样也通过add_metric()来计算分类准确性"
   ]
  },
  {
   "cell_type": "code",
   "execution_count": 20,
   "metadata": {},
   "outputs": [],
   "source": [
    "class LogisticEndpoint(keras.layers.Layer):\n",
    "    def __init__(self, name=None):\n",
    "        super(LogisticEndpoint, self).__init__(name=name)\n",
    "        self.loss_fn = keras.losses.BinaryCrossentropy(from_logits=True)\n",
    "        self.accuracy_fn = keras.metrics.BinaryAccuracy()\n",
    "\n",
    "    def call(self, targets, logits, sample_weights=None):\n",
    "        # Compute the training-time loss value and add it\n",
    "        # to the layer using `self.add_loss()`.\n",
    "        loss = self.loss_fn(targets, logits, sample_weights)\n",
    "        self.add_loss(loss)\n",
    "\n",
    "        # Log accuracy as a metric and add it\n",
    "        # to the layer using `self.add_metric()`.\n",
    "        acc = self.accuracy_fn(targets, logits, sample_weights)\n",
    "        self.add_metric(acc, name=\"accuracy\")\n",
    "\n",
    "        # Return the inference-time prediction tensor (for `.predict()`).\n",
    "        return tf.nn.softmax(logits)"
   ]
  },
  {
   "cell_type": "markdown",
   "metadata": {},
   "source": [
    "You can use it in a model with two inputs (input data & targets), compiled without a loss argument, like this:\n",
    "你可以在接受两个输入的模型中应用这个技巧，在没有损失函数的情况下进行汇编，就像这样："
   ]
  },
  {
   "cell_type": "code",
   "execution_count": 21,
   "metadata": {},
   "outputs": [
    {
     "name": "stdout",
     "output_type": "stream",
     "text": [
      "1/1 [==============================] - 1s 988ms/step - loss: 1.0554 - binary_accuracy: 0.0000e+00\n"
     ]
    },
    {
     "data": {
      "text/plain": [
       "<tensorflow.python.keras.callbacks.History at 0x1dce9619490>"
      ]
     },
     "execution_count": 21,
     "metadata": {},
     "output_type": "execute_result"
    }
   ],
   "source": [
    "import numpy as np\n",
    "\n",
    "inputs = keras.Input(shape=(3,), name=\"inputs\")\n",
    "targets = keras.Input(shape=(10,), name=\"targets\")\n",
    "logits = keras.layers.Dense(10)(inputs)\n",
    "predictions = LogisticEndpoint(name=\"predictions\")(logits, targets)\n",
    "\n",
    "model = keras.Model(inputs=[inputs, targets], outputs=predictions)\n",
    "model.compile(optimizer=\"adam\")  # No loss argument!\n",
    "\n",
    "data = {\n",
    "    \"inputs\": np.random.random((3, 3)),\n",
    "    \"targets\": np.random.random((3, 10)),\n",
    "}\n",
    "model.fit(data)"
   ]
  },
  {
   "cell_type": "markdown",
   "metadata": {},
   "source": [
    "For more information about training multi-input models, see the section Passing data to multi-input, multi-output models.\n",
    "\n",
    "想知道更多关于训练多输入模型的信息，请参考传递数据到多输入/输出模型部分"
   ]
  },
  {
   "cell_type": "markdown",
   "metadata": {},
   "source": [
    "### Automatically setting apart a validation holdout set\n",
    "### 自动设置验证集\n",
    "\n",
    "In the first end-to-end example you saw, we used the validation_data argument to pass a tuple of NumPy arrays (x_val, y_val) to the model for evaluating a validation loss and validation metrics at the end of each epoch.\n",
    "\n",
    "Here's another option: the argument validation_split allows you to automatically reserve part of your training data for validation. The argument value represents the fraction of the data to be reserved for validation, so it should be set to a number higher than 0 and lower than 1. For instance, validation_split=0.2 means \"use 20% of the data for validation\", and validation_split=0.6 means \"use 60% of the data for validation\".\n",
    "\n",
    "The way the validation is computed is by taking the last x% samples of the arrays received by the fit() call, before any shuffling.\n",
    "\n",
    "Note that you can only use validation_split when training with NumPy data.\n",
    "\n",
    "在第一个端到端案例总，我们使用了验证参数将Numpy数组的元组（x_val, y_val）传递到模型，以在每次训练结束后评估验证集损失和验证集指标状态\n",
    "\n",
    "这里还有另一个选择：参数validation_split允许你自动的将部分训练集数据划分为验证集。参数的值意味着划分为验证集的数据比例。所以其取值在0到1之间。例如validation_split=0.2意味着将训练集的20%设置为验证集；而validation_split=0.6意味着将训练集的60%设置为验证集\n",
    "\n",
    "这里的验证方法是 在每次打乱顺序前，通过样本最后的x%数据传递给fit()并进行计算\n",
    "\n",
    "请注意，只有当输入是Numpy数据时，你才可以使用validation_split参数"
   ]
  },
  {
   "cell_type": "code",
   "execution_count": 23,
   "metadata": {},
   "outputs": [
    {
     "name": "stdout",
     "output_type": "stream",
     "text": [
      "625/625 [==============================] - 3s 3ms/step - loss: 0.6173 - sparse_categorical_accuracy: 0.8291 - val_loss: 0.2491 - val_sparse_categorical_accuracy: 0.9218\n"
     ]
    },
    {
     "data": {
      "text/plain": [
       "<tensorflow.python.keras.callbacks.History at 0x1dce98f7d30>"
      ]
     },
     "execution_count": 23,
     "metadata": {},
     "output_type": "execute_result"
    }
   ],
   "source": [
    "model = get_compiled_model()\n",
    "model.fit(x_train, y_train, batch_size=64, validation_split=0.2, epochs=1)"
   ]
  },
  {
   "cell_type": "markdown",
   "metadata": {},
   "source": [
    "# Notev学习笔记\n",
    "when you 'build' a model in Keras, it is not available to run. You must add the optimizer, loss, and metric to the model.\n",
    "\n",
    "there are many ways to do it.\n",
    "1. use compile() method to add optimizer, loss, and metric\n",
    "2. use add_loss() or add_metric() to add arguments respectively\n",
    "\n",
    "Also, even Keras has many build-in optimizers, losses, and metrics, we still can create cumtom iterm to deal with perticular problem\n",
    "\n",
    "In the end, if the input is Numpy array, we can use validation_split argument to set auto validation set\n",
    "\n",
    "当你“构建”好一个模型时，它还不能运行。你必须加入优化器，损失以及评价指标到模型中去\n",
    "\n",
    "有多种方式可以做到这一点：\n",
    "1. 通过compile（）方法来直接添加优化器，损失以及评价指标\n",
    "2. 或者通过add_loss()及add_metric() 等方法来依次添加这些元素\n",
    "\n",
    "另外，虽然Keras提供了丰富的内置优化器，损失，和指标，我们依然可以就具体问题来构建自定义的项目\n",
    "\n",
    "最后，如果模型的输入是Numpy数组形式的，我们可以通过validation_split参数来实现自动划分验证集。不需要提前对数据进行划分"
   ]
  },
  {
   "cell_type": "markdown",
   "metadata": {},
   "source": [
    "## Training & evaluation from tf.data Datasets\n",
    "## 训练和评估tf.data数据集\n",
    "\n",
    "In the past few paragraphs, you've seen how to handle losses, metrics, and optimizers, and you've seen how to use the validation_data and validation_split arguments in fit(), when your data is passed as NumPy arrays.\n",
    "\n",
    "Let's now take a look at the case where your data comes in the form of a tf.data.Dataset object.\n",
    "\n",
    "The tf.data API is a set of utilities in TensorFlow 2.0 for loading and preprocessing data in a way that's fast and scalable.\n",
    "\n",
    "For a complete guide about creating Datasets, see the [tf.data documentation](https://www.tensorflow.org/guide/data)\n",
    "\n",
    "在之前的内容中，你已经了解了如何控制损失函数、指标和优化器，并且知道了当传入的数据时Numpy数组时，如何使用validation_data和fit()方法的validation_split的参数（来对模型进行验证）\n",
    "\n",
    "现在来看看当输入数据的格式是tf.data.Dataset对象时，（要如何做）\n",
    "\n",
    "tf.data API是一系列TensorFlow2.0中的工具，用于以一种高速且可扩展的方式来加载和预处理数据\n",
    "\n",
    "关于创建数据集的完全指南，请参见[这里](https://www.tensorflow.org/guide/data)\n",
    "\n"
   ]
  },
  {
   "cell_type": "markdown",
   "metadata": {},
   "source": [
    "You can pass a Dataset instance directly to the methods fit(), evaluate(), and predict\n",
    "\n",
    "你可以直接将tf.data数据集实例传递给 fit(), evaluate(), and predict方法"
   ]
  },
  {
   "cell_type": "code",
   "execution_count": 24,
   "metadata": {},
   "outputs": [
    {
     "name": "stdout",
     "output_type": "stream",
     "text": [
      "Epoch 1/3\n",
      "782/782 [==============================] - 2s 2ms/step - loss: 0.5486 - sparse_categorical_accuracy: 0.8423\n",
      "Epoch 2/3\n",
      "782/782 [==============================] - 2s 2ms/step - loss: 0.1674 - sparse_categorical_accuracy: 0.9511\n",
      "Epoch 3/3\n",
      "782/782 [==============================] - 2s 2ms/step - loss: 0.1196 - sparse_categorical_accuracy: 0.9640\n",
      "Evaluate\n",
      "157/157 [==============================] - 0s 1ms/step - loss: 0.1318 - sparse_categorical_accuracy: 0.9597\n"
     ]
    },
    {
     "data": {
      "text/plain": [
       "{'loss': 0.13175071775913239,\n",
       " 'sparse_categorical_accuracy': 0.9596999883651733}"
      ]
     },
     "execution_count": 24,
     "metadata": {},
     "output_type": "execute_result"
    }
   ],
   "source": [
    "model = get_compiled_model()\n",
    "\n",
    "# First, let's create a training Dataset instance.\n",
    "# 首先 创建一个训练集实例\n",
    "# For the sake of our example, we'll use the same MNIST data as before.\n",
    "# 为了方便，我们将使用之前的MNIST数据\n",
    "train_dataset = tf.data.Dataset.from_tensor_slices((x_train, y_train))\n",
    "# Shuffle and slice the dataset.\n",
    "# 打乱数据顺序并切片\n",
    "train_dataset = train_dataset.shuffle(buffer_size=1024).batch(64)\n",
    "\n",
    "# Now we get a test dataset.\n",
    "# 得到测试集\n",
    "test_dataset = tf.data.Dataset.from_tensor_slices((x_test, y_test))\n",
    "test_dataset = test_dataset.batch(64)\n",
    "\n",
    "# Since the dataset already takes care of batching,\n",
    "# we don't pass a `batch_size` argument.\n",
    "# 由于数据集已经的到了批量参数，所以我们不需要再次传递“batch_size”参数了\n",
    "model.fit(train_dataset, epochs=3)\n",
    "\n",
    "# You can also evaluate or predict on a dataset.\n",
    "# 你同样可以对这个数据集上进行评估和预测\n",
    "print(\"Evaluate\")\n",
    "result = model.evaluate(test_dataset)\n",
    "dict(zip(model.metrics_names, result))"
   ]
  },
  {
   "cell_type": "markdown",
   "metadata": {},
   "source": [
    "Note that the Dataset is reset at the end of each epoch, so it can be reused of the next epoch.\n",
    "\n",
    "If you want to run training only on a specific number of batches from this Dataset, you can pass the steps_per_epoch argument, which specifies how many training steps the model should run using this Dataset before moving on to the next epoch.\n",
    "\n",
    "If you do this, the dataset is not reset at the end of each epoch, instead we just keep drawing the next batches. The dataset will eventually run out of data (unless it is an infinitely-looping dataset).\n",
    "\n",
    "\n",
    "注意：数据集会在每次训练结束后被重置，所以数据集可以在下一次的训练中被复用（虽然是同一个数据集，但是作为训练集的数据，训练集中每一个批次的数据都不一样）\n",
    "\n",
    "如果你想以一种特定次序的数据集批次来进行训练，你可以使用the steps_per_epoch参数。这个参数会指定模型在这一次的训练中的批量数目\n",
    "\n",
    "如果你这么做的话，数据集不会在训练结束后重置，取而代之的是我们将持续的重训练集中抽出下一个训练用批次，直到所有的数据都被抽取（除非这是一个无限循环的数据集）"
   ]
  },
  {
   "cell_type": "code",
   "execution_count": 26,
   "metadata": {},
   "outputs": [
    {
     "name": "stdout",
     "output_type": "stream",
     "text": [
      "Epoch 1/3\n",
      "100/100 [==============================] - 2s 3ms/step - loss: 1.2173 - sparse_categorical_accuracy: 0.6601\n",
      "Epoch 2/3\n",
      "100/100 [==============================] - 0s 3ms/step - loss: 0.4022 - sparse_categorical_accuracy: 0.8857\n",
      "Epoch 3/3\n",
      "100/100 [==============================] - 0s 3ms/step - loss: 0.3559 - sparse_categorical_accuracy: 0.8940\n"
     ]
    },
    {
     "data": {
      "text/plain": [
       "<tensorflow.python.keras.callbacks.History at 0x1dceabae520>"
      ]
     },
     "execution_count": 26,
     "metadata": {},
     "output_type": "execute_result"
    }
   ],
   "source": [
    "model = get_compiled_model()\n",
    "\n",
    "# Prepare the training dataset\n",
    "# 准备训练集\n",
    "train_dataset = tf.data.Dataset.from_tensor_slices((x_train, y_train))\n",
    "train_dataset = train_dataset.shuffle(buffer_size=1024).batch(64)\n",
    "\n",
    "# Only use the 100 batches per epoch (that's 64 * 100 samples)\n",
    "#每次训练只使用100个批量\n",
    "model.fit(train_dataset, epochs=3, steps_per_epoch=100)"
   ]
  },
  {
   "cell_type": "markdown",
   "metadata": {},
   "source": [
    "### Using a validation dataset\n",
    "### 使用验证数据集\n",
    "You can pass a Dataset instance as the validation_data argument in fit():\n",
    "\n",
    "你可以将（验证集）实例通过fit()中的alidation_data参数来传递"
   ]
  },
  {
   "cell_type": "code",
   "execution_count": null,
   "metadata": {},
   "outputs": [],
   "source": [
    "model = get_compiled_model()\n",
    "\n",
    "# Prepare the training dataset\n",
    "# 准备训练集\n",
    "train_dataset = tf.data.Dataset.from_tensor_slices((x_train, y_train))\n",
    "train_dataset = train_dataset.shuffle(buffer_size=1024).batch(64)\n",
    "\n",
    "# Prepare the validation dataset\n",
    "# 准备验证集\n",
    "val_dataset = tf.data.Dataset.from_tensor_slices((x_val, y_val))\n",
    "val_dataset = val_dataset.batch(64)\n",
    "\n",
    "model.fit(train_dataset, epochs=1, validation_data=val_dataset)"
   ]
  },
  {
   "cell_type": "markdown",
   "metadata": {},
   "source": [
    "At the end of each epoch, the model will iterate over the validation dataset and compute the validation loss and validation metrics.\n",
    "\n",
    "在每次训练结束后，模型会对验证集数据进行迭代并计算验证损失和验证指标"
   ]
  },
  {
   "cell_type": "markdown",
   "metadata": {},
   "source": [
    "If you want to run validation only on a specific number of batches from this dataset, you can pass the validation_steps argument, which specifies how many validation steps the model should run with the validation dataset before interrupting validation and moving on to the next epoch:\n",
    "\n",
    "如果你喜欢指定每次验证时使用的批次数量，你可以传递validation_steps 参数来做到这一点。这个参数指定了每次训练结束后，有多少验证集批次会被执行"
   ]
  },
  {
   "cell_type": "code",
   "execution_count": 29,
   "metadata": {},
   "outputs": [
    {
     "name": "stdout",
     "output_type": "stream",
     "text": [
      "782/782 [==============================] - 3s 2ms/step - loss: 0.5671 - sparse_categorical_accuracy: 0.8397 - val_loss: 0.3034 - val_sparse_categorical_accuracy: 0.9109\n"
     ]
    },
    {
     "data": {
      "text/plain": [
       "<tensorflow.python.keras.callbacks.History at 0x1dc816a75e0>"
      ]
     },
     "execution_count": 29,
     "metadata": {},
     "output_type": "execute_result"
    }
   ],
   "source": [
    "model = get_compiled_model()\n",
    "\n",
    "# Prepare the training dataset\n",
    "train_dataset = tf.data.Dataset.from_tensor_slices((x_train, y_train))\n",
    "train_dataset = train_dataset.shuffle(buffer_size=1024).batch(64)\n",
    "\n",
    "# Prepare the validation dataset\n",
    "val_dataset = tf.data.Dataset.from_tensor_slices((x_val, y_val))\n",
    "val_dataset = val_dataset.batch(64)\n",
    "\n",
    "model.fit(\n",
    "    train_dataset,\n",
    "    epochs=1,\n",
    "    # Only run validation using the first 10 batches of the dataset\n",
    "    # using the `validation_steps` argument\n",
    "    # 因为validation_steps参数的设定，每次只使用数据集的前10个批次进行验证\n",
    "    validation_data=val_dataset,\n",
    "    validation_steps=10,\n",
    ")"
   ]
  },
  {
   "cell_type": "markdown",
   "metadata": {},
   "source": [
    "Note that the validation dataset will be reset after each use (so that you will always be evaluating on the same samples from epoch to epoch).\n",
    "\n",
    "The argument validation_split (generating a holdout set from the training data) is not supported when training from Dataset objects, since this feature requires the ability to index the samples of the datasets, which is not possible in general with the Dataset API.\n",
    "\n",
    "注意，每次模型训练结束后，验证集都会被重置，（所以你会使用相同的样本对每一次的训练模型进行验证）\n",
    "\n",
    "当训练来自tf数据集对象时，参数validation_split（从训练集中生成验证集）不被支持。这是因为这个功能需要索引数据集中的样本，而由数据集API生成的对象并不能做到这一点"
   ]
  },
  {
   "cell_type": "markdown",
   "metadata": {},
   "source": [
    "# Note 学习笔记\n",
    "\n",
    "this part shows how to train, evaluate, and predict with tf.data dataset object.\n",
    "\n",
    "In my opinion, the similar thing is they can be created directly by fucntions. and the differece thing is that tf dataset can set batch size in advance\n",
    "\n",
    "Also, this part present how the input is used in the training processing. In general, the input data will be shuffled and split into several batches. then model will learning from these batches. when model learning all data in input dataset in this way, we can say the model finish a epoch.\n",
    "\n",
    "somethings, we want to pick sample from input in a certain pattern, there are some argument that can help us implement this feature\n",
    "\n",
    "like XGBoost, I can add train set and validation set into model at the same time. and the model will report the loss and metric on the validation set. In addition, I also can set the sample pick pattern on the validation set.\n",
    "\n",
    "这一部分展示了对一个tf数据集格式的输入进行训练，评估和预测\n",
    "\n",
    "在我看来，两者的相似之处是它们都可以用过函数进行创建。不同之处在于在创建tf数据集对象时可以提前设定批量规模\n",
    "\n",
    "此外，这一部分还展示了模型的训练过程是如何使用输入数据的。一般来说，输入数据会被打乱并划分为多个批量数据。然后模型会从这些批量数据中进行学习。当模型以这种方式“学习完”全部数据后，我们称之为魔形女完成了一次训练\n",
    "\n",
    "有时，我们希望以某些特定的方式来选择桑本数据。这时可以通过一些参数设置来实现这一功能\n",
    "\n",
    "\n",
    "类似于XGBoost， 我可以同时把训练集和验证集数据加入模型。模型会报告验证集上的损失和指标信息。另外，我依然可以指定从验证集从提取数据的方式"
   ]
  },
  {
   "cell_type": "markdown",
   "metadata": {},
   "source": [
    "## Other input formats supported\n",
    "## 其他支持的输入格式\n",
    "Besides NumPy arrays, eager tensors, and TensorFlow Datasets, it's possible to train a Keras model using Pandas dataframes, or from Python generators that yield batches of data & labels.\n",
    "\n",
    "In particular, the keras.utils.Sequence class offers a simple interface to build Python data generators that are multiprocessing-aware and can be shuffled.\n",
    "\n",
    "In general, we recommend that you use:\n",
    "1. NumPy input data if your data is small and fits in memory\n",
    "2. Dataset objects if you have large datasets and you need to do distributed training\n",
    "3. Sequence objects if you have large datasets and you need to do a lot of custom Python-side processing that cannot be done in TensorFlow (e.g. if you rely on external libraries for data loading or preprocessing).\n",
    "\n",
    "除了NumPy arrays, eager tensors, 和TensorFlow Datasets三类输入格式以外，Keras模型还支持pandas数据框或者能生成批量数据/标签的python生成器\n",
    "\n",
    "具体来说，keras.utils.Sequence 类提供了为数据生成器提供了一个简单的接口。这些生成器通常是多进程感知的（multiprocessing-aware）并且支持数据打乱/洗牌\n",
    "\n",
    "一般来说，我们建议你使用：\n",
    "1.Numpy输入，如果数据规模小且可以在内存中训练\n",
    "2.数据集对象，如果你的数据规模很大并且你需要使用分布式训练\n",
    "3.顺序对象，如果你的数据规模很大并且你需要使用大量自定义的处理流程。这些流程无法由Tensorflow完成（如需要依赖其他的数据加载与处理包）"
   ]
  },
  {
   "cell_type": "markdown",
   "metadata": {},
   "source": [
    "## Using a keras.utils.Sequence object as input\n",
    "## 将keras.utils.Sequence对象作为输入\n",
    "\n",
    "keras.utils.Sequence is a utility that you can subclass to obtain a Python generator with two important properties:\n",
    "1. It works well with multiprocessing.\n",
    "2. It can be shuffled (e.g. when passing shuffle=True in fit()).\n",
    "\n",
    "A Sequence must implement two methods:\n",
    "1. \\__getitem__\n",
    "2. \\__len__\n",
    "\n",
    "The method __getitem__ should return a complete batch. If you want to modify your dataset between epochs, you may implement on_epoch_end.\n",
    "\n",
    "keras.utils.Sequence是一个可以让你创建子类来生成python生成器的工具。这个工具有两个重要特点：\n",
    "1. 它在多进程条件下顺利工作\n",
    "2. 它支持打乱/洗牌操作\n",
    "\n",
    "一个Sequence对象必须要实现两个方法：\n",
    "1. \\__getitem\\__\n",
    "2. \\__len\\__\n",
    "\n",
    "\\__getitem\\__方法会返回一个完整的批量数据。如果你希望在两次训练期间调整数据集，你可以使用on_epoch_end"
   ]
  },
  {
   "cell_type": "code",
   "execution_count": null,
   "metadata": {},
   "outputs": [],
   "source": [
    "# a quick example\n",
    "from skimage.io import imread\n",
    "from skimage.transform import resize\n",
    "import numpy as np\n",
    "\n",
    "# Here, `filenames` is list of path to the images\n",
    "# and `labels` are the associated labels.\n",
    "#在这里，`filenames`是图像的路径信息列表，而`labels`是相对应的标签信息\n",
    "\n",
    "class CIFAR10Sequence(Sequence):\n",
    "    def __init__(self, filenames, labels, batch_size):\n",
    "        self.filenames, self.labels = filenames, labels\n",
    "        self.batch_size = batch_size\n",
    "\n",
    "    def __len__(self):\n",
    "        return int(np.ceil(len(self.filenames) / float(self.batch_size)))\n",
    "\n",
    "    def __getitem__(self, idx):\n",
    "        batch_x = self.filenames[idx * self.batch_size:(idx + 1) * self.batch_size]\n",
    "        batch_y = self.labels[idx * self.batch_size:(idx + 1) * self.batch_size]\n",
    "        return np.array([\n",
    "            resize(imread(filename), (200, 200))\n",
    "               for filename in batch_x]), np.array(batch_y)\n",
    "\n",
    "sequence = CIFAR10Sequence(filenames, labels, batch_size)\n",
    "model.fit(sequence, epochs=10)"
   ]
  },
  {
   "cell_type": "markdown",
   "metadata": {},
   "source": [
    "## Using sample weighting and class weighting\n",
    "## 使用样本权重和类别权重\n",
    "\n",
    "With the default settings the weight of a sample is decided by its frequency in the dataset. There are two methods to weight the data, independent of sample frequency:\n",
    "\n",
    "1. Class weights\n",
    "2. Sample weights\n",
    "\n",
    "在默认设置中，一个样本的模型权重由它在数据集中出现的频率决定。有两个方法可以无视数据频率对数据进行加权：\n",
    "1. 类别权重\n",
    "2. 样本权重"
   ]
  },
  {
   "cell_type": "markdown",
   "metadata": {},
   "source": [
    "### Class weights\n",
    "### 类别权重\n",
    "This is set by passing a dictionary to the class_weight argument to Model.fit(). This dictionary maps class indices to the weight that should be used for samples belonging to this class.\n",
    "\n",
    "This can be used to balance classes without resampling, or to train a model that gives more importance to a particular class.\n",
    "\n",
    "For instance, if class \"0\" is half as represented as class \"1\" in your data, you could use Model.fit(..., class_weight={0: 1., 1: 0.5}).\n",
    "\n",
    "\n",
    "设置类别权重的方法是 传递一个字典对象给class_weight参数，然后这个参数把权重传递给 Model.fit()，这个字典将类别和权重对应，这样属于这个类别的的样本都可以使用所设定的权重\n",
    "\n",
    "这可以在不进行重新取样的前提下平衡类别，或者是在指定一个重要类别的条件下对模型进行训练\n",
    "\n",
    "例如，如果你的样本中，0类别只有1累呗的一半，那么你可以设置为 Model.fit(..., class_weight={0: 1., 1: 0.5})\n"
   ]
  },
  {
   "cell_type": "markdown",
   "metadata": {},
   "source": [
    "Here's a NumPy example where we use class weights or sample weights to give more importance to the correct classification of class \\#5 (which is the digit \"5\" in the MNIST dataset).\n",
    "\n",
    "这是是一个Numpy数据集示例。我们通过调节类别和样本权重来给正确预测数字5一个更高的重要性"
   ]
  },
  {
   "cell_type": "code",
   "execution_count": 38,
   "metadata": {},
   "outputs": [
    {
     "name": "stdout",
     "output_type": "stream",
     "text": [
      "Fit with class weight\n",
      "782/782 [==============================] - 2s 2ms/step - loss: 0.6325 - sparse_categorical_accuracy: 0.8372\n"
     ]
    },
    {
     "data": {
      "text/plain": [
       "<tensorflow.python.keras.callbacks.History at 0x1dc842880d0>"
      ]
     },
     "execution_count": 38,
     "metadata": {},
     "output_type": "execute_result"
    }
   ],
   "source": [
    "import numpy as np\n",
    "\n",
    "class_weight = {\n",
    "    0: 1.0,\n",
    "    1: 1.0,\n",
    "    2: 1.0,\n",
    "    3: 1.0,\n",
    "    4: 1.0,\n",
    "    # Set weight \"2\" for class \"5\",\n",
    "    # making this class 2x more important\n",
    "    5: 2.0,\n",
    "    6: 1.0,\n",
    "    7: 1.0,\n",
    "    8: 1.0,\n",
    "    9: 1.0,\n",
    "}\n",
    "\n",
    "print(\"Fit with class weight\")\n",
    "model = get_compiled_model()\n",
    "model.fit(x_train, y_train, class_weight=class_weight, batch_size=64, epochs=1)"
   ]
  },
  {
   "cell_type": "markdown",
   "metadata": {},
   "source": [
    "### Sample weights\n",
    "### 样本权重\n",
    "\n",
    "For fine grained control, or if you are not building a classifier, you can use \"sample weights\".\n",
    "\n",
    "1. When training from NumPy data: Pass the sample_weight argument to Model.fit().\n",
    "2. When training from tf.data or any other sort of iterator: Yield (input_batch, label_batch, sample_weight_batch) tuples.\n",
    "\n",
    "A \"sample weights\" array is an array of numbers that specify how much weight each sample in a batch should have in computing the total loss. It is commonly used in imbalanced classification problems (the idea being to give more weight to rarely-seen classes).\n",
    "\n",
    "When the weights used are ones and zeros, the array can be used as a mask for the loss function (entirely discarding the contribution of certain samples to the total loss).\n",
    "\n",
    "为了控制颗粒度，或者你还没有建立一个分类器的情况下，你可以使用样本权重\n",
    "\n",
    "1. 对Numpy数据进行训练时，传递sample_weight给Model.fit()\n",
    "2. 对tf.data数据或者其他类型迭代器进行训练时，生成 (input_batch, label_batch, sample_weight_batch)元组\n",
    "\n",
    "一个样本权重数组时一组用户指定批量数据中每一个样本权重的数组，这个权重会被用户计算整体的损失。这一功能常被用于不平衡分类问题之中（给不常见的类别更高的权重）\n",
    "\n",
    "当权重是0和1时，这个权重数组可以用作损失函数的掩码（可以完全忽略特定样本对总体损失的贡献）"
   ]
  },
  {
   "cell_type": "code",
   "execution_count": 40,
   "metadata": {},
   "outputs": [
    {
     "name": "stdout",
     "output_type": "stream",
     "text": [
      "Fit with sample weight\n",
      "782/782 [==============================] - 2s 2ms/step - loss: 0.6528 - sparse_categorical_accuracy: 0.8264\n"
     ]
    },
    {
     "data": {
      "text/plain": [
       "<tensorflow.python.keras.callbacks.History at 0x1dc8463f280>"
      ]
     },
     "execution_count": 40,
     "metadata": {},
     "output_type": "execute_result"
    }
   ],
   "source": [
    "sample_weight = np.ones(shape=(len(y_train),))\n",
    "sample_weight[y_train == 5] = 2.0\n",
    "\n",
    "print(\"Fit with sample weight\")\n",
    "model = get_compiled_model()\n",
    "model.fit(x_train, y_train, sample_weight=sample_weight, batch_size=64, epochs=1)"
   ]
  },
  {
   "cell_type": "code",
   "execution_count": 41,
   "metadata": {},
   "outputs": [
    {
     "name": "stdout",
     "output_type": "stream",
     "text": [
      "782/782 [==============================] - 3s 2ms/step - loss: 0.5916 - sparse_categorical_accuracy: 0.8478\n"
     ]
    },
    {
     "data": {
      "text/plain": [
       "<tensorflow.python.keras.callbacks.History at 0x1dc8499df70>"
      ]
     },
     "execution_count": 41,
     "metadata": {},
     "output_type": "execute_result"
    }
   ],
   "source": [
    "# a matching Dataset example\n",
    "# 一个匹配数据集案例\n",
    "sample_weight = np.ones(shape=(len(y_train),))\n",
    "sample_weight[y_train == 5] = 2.0\n",
    "\n",
    "# Create a Dataset that includes sample weights\n",
    "# 构建一个含有样本权重的数据集\n",
    "# (3rd element in the return tuple).\n",
    "#（元组中的第三个元素即是样本权重）\n",
    "train_dataset = tf.data.Dataset.from_tensor_slices((x_train, y_train, sample_weight))\n",
    "\n",
    "# Shuffle and slice the dataset.\n",
    "# 打乱并切片数据\n",
    "train_dataset = train_dataset.shuffle(buffer_size=1024).batch(64)\n",
    "\n",
    "model = get_compiled_model()\n",
    "model.fit(train_dataset, epochs=1)"
   ]
  },
  {
   "cell_type": "markdown",
   "metadata": {},
   "source": [
    "# Note 学习笔记\n",
    "like my comment about model weights in the Functional API part, I believe this is a good way to deal with model bias problem\n",
    "\n",
    "像我在函数式API部分对模型权重的评论一样，我相信这（手动分配权重）是解决模型偏见的一个好办法"
   ]
  },
  {
   "cell_type": "markdown",
   "metadata": {},
   "source": [
    "## Passing data to multi-input, multi-output models\n",
    "## 传递数据给多输入/输出模型\n",
    "\n",
    "In the previous examples, we were considering a model with a single input (a tensor of shape (764,)) and a single output (a prediction tensor of shape (10,)). But what about models that have multiple inputs or outputs?\n",
    "\n",
    "Consider the following model, which has an image input of shape (32, 32, 3) (that's (height, width, channels)) and a time series input of shape (None, 10) (that's (timesteps, features)). Our model will have two outputs computed from the combination of these inputs: a \"score\" (of shape (1,)) and a probability distribution over five classes (of shape (5,)).\n",
    "\n",
    "在之前的示例中，我们只考虑了只有一个输入/输出的模型。但是对于有多个输入/输出的模型，又应该如何对其进行操作呢？\n",
    "\n",
    "考虑以下模型：图像输入的维度是(32, 32, 3) （即长度，宽度，通道），时间序列输入的维度是（None,10）(即时间戳，特征)。我们的模型将从这些输入组合中生成两个输出：得分（维度是（1,））和5个类别的分布概率（维度是（5，））\n"
   ]
  },
  {
   "cell_type": "code",
   "execution_count": 42,
   "metadata": {},
   "outputs": [],
   "source": [
    "image_input = keras.Input(shape=(32, 32, 3), name=\"img_input\")\n",
    "timeseries_input = keras.Input(shape=(None, 10), name=\"ts_input\")\n",
    "\n",
    "x1 = layers.Conv2D(3, 3)(image_input)\n",
    "x1 = layers.GlobalMaxPooling2D()(x1)\n",
    "\n",
    "x2 = layers.Conv1D(3, 3)(timeseries_input)\n",
    "x2 = layers.GlobalMaxPooling1D()(x2)\n",
    "\n",
    "x = layers.concatenate([x1, x2])\n",
    "\n",
    "score_output = layers.Dense(1, name=\"score_output\")(x)\n",
    "class_output = layers.Dense(5, name=\"class_output\")(x)\n",
    "\n",
    "model = keras.Model(\n",
    "    inputs=[image_input, timeseries_input], outputs=[score_output, class_output]\n",
    ")"
   ]
  },
  {
   "cell_type": "markdown",
   "metadata": {},
   "source": [
    "Let's plot this model, so you can clearly see what we're doing here (note that the shapes shown in the plot are batch shapes, rather than per-sample shapes).\n",
    "\n",
    "让我们绘制模型的层次图，这样就能清晰地了解我们正在做什么（注意图中展示的维度是批量数据的维度，而不是我们之前的样本维度）"
   ]
  },
  {
   "cell_type": "code",
   "execution_count": 43,
   "metadata": {},
   "outputs": [
    {
     "data": {
      "image/png": "[encoded data removed]",
      "text/plain": [
       "<IPython.core.display.Image object>"
      ]
     },
     "execution_count": 43,
     "metadata": {},
     "output_type": "execute_result"
    }
   ],
   "source": [
    "keras.utils.plot_model(model, \"multi_input_and_output_model.png\", show_shapes=True)"
   ]
  },
  {
   "cell_type": "code",
   "execution_count": 44,
   "metadata": {},
   "outputs": [],
   "source": [
    "# specify different losses to different outputs, by passing the loss functions as a list\n",
    "# 通过将损失函数列表来指定不同的损失函数\n",
    "model.compile(\n",
    "    optimizer=keras.optimizers.RMSprop(1e-3),\n",
    "    loss=[keras.losses.MeanSquaredError(), keras.losses.CategoricalCrossentropy()],\n",
    ")"
   ]
  },
  {
   "cell_type": "markdown",
   "metadata": {},
   "source": [
    "If we only passed a single loss function to the model, the same loss function would be applied to every output (which is not appropriate here).\n",
    "\n",
    "如果你只传递了一个损失函数，那么这个函数会被应用于所有的输出（并不适用于目前的示例，因为计算得分是一个回归问题，计算类别概率是一个分类问题）"
   ]
  },
  {
   "cell_type": "code",
   "execution_count": 45,
   "metadata": {},
   "outputs": [],
   "source": [
    "model.compile(\n",
    "    optimizer=keras.optimizers.RMSprop(1e-3),\n",
    "    loss=[keras.losses.MeanSquaredError(), keras.losses.CategoricalCrossentropy()],\n",
    "    metrics=[\n",
    "        [\n",
    "            keras.metrics.MeanAbsolutePercentageError(),\n",
    "            keras.metrics.MeanAbsoluteError(),\n",
    "        ],\n",
    "        [keras.metrics.CategoricalAccuracy()],\n",
    "    ],\n",
    ")"
   ]
  },
  {
   "cell_type": "markdown",
   "metadata": {},
   "source": [
    "Since we gave names to our output layers, we could also specify per-output losses and metrics via a dict:\n",
    "\n",
    "由于我们给每一个输出层命名了，所以我们可以通过字典来提前指定损失函数和指标"
   ]
  },
  {
   "cell_type": "code",
   "execution_count": 46,
   "metadata": {},
   "outputs": [],
   "source": [
    "model.compile(\n",
    "    optimizer=keras.optimizers.RMSprop(1e-3),\n",
    "    loss={\n",
    "        \"score_output\": keras.losses.MeanSquaredError(),\n",
    "        \"class_output\": keras.losses.CategoricalCrossentropy(),\n",
    "    },\n",
    "    metrics={\n",
    "        \"score_output\": [\n",
    "            keras.metrics.MeanAbsolutePercentageError(),\n",
    "            keras.metrics.MeanAbsoluteError(),\n",
    "        ],\n",
    "        \"class_output\": [keras.metrics.CategoricalAccuracy()],\n",
    "    },\n",
    ")"
   ]
  },
  {
   "cell_type": "markdown",
   "metadata": {},
   "source": [
    "We recommend the use of explicit names and dicts if you have more than 2 outputs.\n",
    "\n",
    "It's possible to give different weights to different output-specific losses (for instance, one might wish to privilege the \"score\" loss in our example, by giving to 2x the importance of the class loss), using the loss_weights argument:\n",
    "\n",
    "我们建议，当你有2个及以上的输出时，采用名字和字典（来传递损失函数和指标参数）\n",
    "\n",
    "通过loss_weights参数给不同的输出类别不同的权重也是可行的（比如，可以给分数损失更高的优先级，可以给于这类损失两倍的权重）"
   ]
  },
  {
   "cell_type": "code",
   "execution_count": null,
   "metadata": {},
   "outputs": [],
   "source": [
    "model.compile(\n",
    "    optimizer=keras.optimizers.RMSprop(1e-3),\n",
    "    loss={\n",
    "        \"score_output\": keras.losses.MeanSquaredError(),\n",
    "        \"class_output\": keras.losses.CategoricalCrossentropy(),\n",
    "    },\n",
    "    metrics={\n",
    "        \"score_output\": [\n",
    "            keras.metrics.MeanAbsolutePercentageError(),\n",
    "            keras.metrics.MeanAbsoluteError(),\n",
    "        ],\n",
    "        \"class_output\": [keras.metrics.CategoricalAccuracy()],\n",
    "    },\n",
    "    loss_weights={\"score_output\": 2.0, \"class_output\": 1.0},\n",
    ")"
   ]
  },
  {
   "cell_type": "markdown",
   "metadata": {},
   "source": [
    "You could also choose not to compute a loss for certain outputs, if these outputs are meant for prediction but not for training:\n",
    "\n",
    "你也可以选择不计算某些输出的损失，如果这些输出不是为了训练合适为了预测"
   ]
  },
  {
   "cell_type": "code",
   "execution_count": 48,
   "metadata": {},
   "outputs": [],
   "source": [
    "# List loss version\n",
    "model.compile(\n",
    "    optimizer=keras.optimizers.RMSprop(1e-3),\n",
    "    loss=[None, keras.losses.CategoricalCrossentropy()],\n",
    ")\n",
    "\n",
    "# Or dict loss version\n",
    "model.compile(\n",
    "    optimizer=keras.optimizers.RMSprop(1e-3),\n",
    "    loss={\"class_output\": keras.losses.CategoricalCrossentropy()},\n",
    ")"
   ]
  },
  {
   "cell_type": "markdown",
   "metadata": {},
   "source": [
    "Passing data to a multi-input or multi-output model in fit() works in a similar way as specifying a loss function in compile: you can pass lists of NumPy arrays (with 1:1 mapping to the outputs that received a loss function) or dicts mapping output names to NumPy arrays.\n",
    "\n",
    "类似与指定compile（）方法的损失函数，通过fit()发放传递数据给多输入/输出模型也是类似的： 你可以传递Numpy数组列表（与接受损失函数的输出一一对应）或者字典（将输出的名称映射到Numpy数组）"
   ]
  },
  {
   "cell_type": "code",
   "execution_count": 49,
   "metadata": {},
   "outputs": [
    {
     "name": "stdout",
     "output_type": "stream",
     "text": [
      "4/4 [==============================] - 2s 9ms/step - loss: 10.8368 - score_output_loss: 0.2767 - class_output_loss: 10.5601\n",
      "4/4 [==============================] - 1s 8ms/step - loss: 10.3543 - score_output_loss: 0.1203 - class_output_loss: 10.2341\n"
     ]
    },
    {
     "data": {
      "text/plain": [
       "<tensorflow.python.keras.callbacks.History at 0x1dc81c26e80>"
      ]
     },
     "execution_count": 49,
     "metadata": {},
     "output_type": "execute_result"
    }
   ],
   "source": [
    "model.compile(\n",
    "    optimizer=keras.optimizers.RMSprop(1e-3),\n",
    "    loss=[keras.losses.MeanSquaredError(), keras.losses.CategoricalCrossentropy()],\n",
    ")\n",
    "\n",
    "# Generate dummy NumPy data\n",
    "img_data = np.random.random_sample(size=(100, 32, 32, 3))\n",
    "ts_data = np.random.random_sample(size=(100, 20, 10))\n",
    "score_targets = np.random.random_sample(size=(100, 1))\n",
    "class_targets = np.random.random_sample(size=(100, 5))\n",
    "\n",
    "# Fit on lists\n",
    "model.fit([img_data, ts_data], [score_targets, class_targets], batch_size=32, epochs=1)\n",
    "\n",
    "# Alternatively, fit on dicts\n",
    "model.fit(\n",
    "    {\"img_input\": img_data, \"ts_input\": ts_data},\n",
    "    {\"score_output\": score_targets, \"class_output\": class_targets},\n",
    "    batch_size=32,\n",
    "    epochs=1,\n",
    ")"
   ]
  },
  {
   "cell_type": "markdown",
   "metadata": {},
   "source": [
    "Here's the Dataset use case: similarly as what we did for NumPy arrays, the Dataset should return a tuple of dicts.\n",
    "\n",
    "这是一个使用tf数据集对象的示例，和使用Numpy数组的示例非常相似。数据集对象会返回格式是包含字典的元组"
   ]
  },
  {
   "cell_type": "code",
   "execution_count": 50,
   "metadata": {},
   "outputs": [
    {
     "name": "stdout",
     "output_type": "stream",
     "text": [
      "2/2 [==============================] - 1s 19ms/step - loss: 10.2988 - score_output_loss: 0.1096 - class_output_loss: 10.1892\n"
     ]
    },
    {
     "data": {
      "text/plain": [
       "<tensorflow.python.keras.callbacks.History at 0x1dc87936e50>"
      ]
     },
     "execution_count": 50,
     "metadata": {},
     "output_type": "execute_result"
    }
   ],
   "source": [
    "train_dataset = tf.data.Dataset.from_tensor_slices(\n",
    "    (\n",
    "        {\"img_input\": img_data, \"ts_input\": ts_data},\n",
    "        {\"score_output\": score_targets, \"class_output\": class_targets},\n",
    "    )\n",
    ")\n",
    "train_dataset = train_dataset.shuffle(buffer_size=1024).batch(64)\n",
    "\n",
    " model.fit(train_dataset, epochs=1)"
   ]
  },
  {
   "cell_type": "markdown",
   "metadata": {},
   "source": [
    "# Note 学习笔记\n",
    "\n",
    "this part shows how to train/evaluate/predict a multiple input/output model.\n",
    "\n",
    "because model has multiple output, so we can set different optimizer, metric, and loss for different output layers. And if we just set one optimizer, metric, and loss. the setting will be applied for all output layers\n",
    "\n",
    "If we want to set multiple optimizers, metrics, and losses, they are two ways:\n",
    "1. use list to pass the seting to compile()\n",
    "2. create a dictionary object to mapping value based on layer name\n",
    "\n",
    "What's more, if we use dictionary to do this, we must know the layer name. So it is important to give layer a good name\n",
    "\n",
    "这一部分展示了如何训练/评估/预测一个多输入输出模型\n",
    "\n",
    "因为模型有多个输出，所以我们可以为不同的输出层设置不一样的优化器，损失函数和评估指标。如果我们只设定了一个优化器，损失函数和评估指标，那么这个优化器，损失函数和评估指标会被应用于所有的输出层\n",
    "\n",
    "如果我们想要设置多个优化器，损失函数和评估指标，有两种方式：\n",
    "1. 在compile（）方法中通过列表来指定\n",
    "2. 创建一个字典对象，实现层名称和具体设定值之间的映射\n",
    "\n",
    "更重要的是，如果我们采用字典来实现这一过程，那么我们必须知道层的名称。因此，给层一个好的名称十分重要"
   ]
  },
  {
   "cell_type": "markdown",
   "metadata": {},
   "source": [
    "## Using callbacks\n",
    "## 使用回调\n",
    "\n",
    "Callbacks in Keras are objects that are called at different points during training (at the start of an epoch, at the end of a batch, at the end of an epoch, etc.). They can be used to implement certain behaviors, such as:\n",
    "1. Doing validation at different points during training (beyond the built-in per-epoch validation)\n",
    "2. Checkpointing the model at regular intervals or when it exceeds a certain accuracy threshold\n",
    "3. Changing the learning rate of the model when training seems to be plateauing\n",
    "4. Doing fine-tuning of the top layers when training seems to be plateauing\n",
    "5. Sending email or instant message notifications when training ends or where a certain performance threshold is exceeded\n",
    "6. Etc.\n",
    "\n",
    "在Keras中，回调是一类于调用时机与训练完全相反的对象（始于训练结束，而终于批量数据）它们被用于实现特定的行为，比如：\n",
    "1. 在训练中不同的时机对模型进行验证（不是在每次训练结束后验证）\n",
    "2. 间隔一定时间或者当模型超过了设定的准确性门槛时，设置检查点\n",
    "3. 当模型训练结果趋于平缓时，改变模型的学习率\n",
    "4. 当模型训练结果区域平缓时，对顶部层进行调参\n",
    "5. 当训练结束或表现达到设定的门槛值时，发送邮件或特定的提示信息\n",
    "6. 其他"
   ]
  },
  {
   "cell_type": "code",
   "execution_count": 51,
   "metadata": {},
   "outputs": [
    {
     "name": "stdout",
     "output_type": "stream",
     "text": [
      "Epoch 1/20\n",
      "625/625 [==============================] - 2s 3ms/step - loss: 0.6162 - sparse_categorical_accuracy: 0.8313 - val_loss: 0.2368 - val_sparse_categorical_accuracy: 0.9274\n",
      "Epoch 2/20\n",
      "625/625 [==============================] - 1s 2ms/step - loss: 0.1928 - sparse_categorical_accuracy: 0.9431 - val_loss: 0.1857 - val_sparse_categorical_accuracy: 0.9450\n",
      "Epoch 3/20\n",
      "625/625 [==============================] - 1s 2ms/step - loss: 0.1326 - sparse_categorical_accuracy: 0.9618 - val_loss: 0.1639 - val_sparse_categorical_accuracy: 0.9501\n",
      "Epoch 4/20\n",
      "625/625 [==============================] - 1s 2ms/step - loss: 0.1022 - sparse_categorical_accuracy: 0.9692 - val_loss: 0.1485 - val_sparse_categorical_accuracy: 0.9548\n",
      "Epoch 5/20\n",
      "625/625 [==============================] - 1s 2ms/step - loss: 0.0839 - sparse_categorical_accuracy: 0.9741 - val_loss: 0.1428 - val_sparse_categorical_accuracy: 0.9588\n",
      "Epoch 6/20\n",
      "625/625 [==============================] - 1s 2ms/step - loss: 0.0681 - sparse_categorical_accuracy: 0.9789 - val_loss: 0.1408 - val_sparse_categorical_accuracy: 0.9617\n",
      "Epoch 00006: early stopping\n"
     ]
    },
    {
     "data": {
      "text/plain": [
       "<tensorflow.python.keras.callbacks.History at 0x1dc88c53df0>"
      ]
     },
     "execution_count": 51,
     "metadata": {},
     "output_type": "execute_result"
    }
   ],
   "source": [
    "# Callbacks can be passed as a list to your call to fit()\n",
    "# 回调函数可以像列表一样传递给fit()\n",
    "model = get_compiled_model()\n",
    "\n",
    "callbacks = [\n",
    "    keras.callbacks.EarlyStopping(\n",
    "        # Stop training when `val_loss` is no longer improving\n",
    "        # 当验证器表现不再提升时，停止训练\n",
    "        monitor=\"val_loss\",\n",
    "        # \"no longer improving\" being defined as \"no better than 1e-2 less\"\n",
    "        # “不再提升”意味着提升分数不超过1e-2\n",
    "        min_delta=1e-2,\n",
    "        # \"no longer improving\" being further defined as \"for at least 2 epochs\"\n",
    "        # “不再提升”意味着比较最近两次训练的结果\n",
    "        patience=2,\n",
    "        verbose=1,\n",
    "    )\n",
    "]\n",
    "model.fit(\n",
    "    x_train,\n",
    "    y_train,\n",
    "    epochs=20,\n",
    "    batch_size=64,\n",
    "    callbacks=callbacks,\n",
    "    validation_split=0.2,\n",
    ")"
   ]
  },
  {
   "cell_type": "markdown",
   "metadata": {},
   "source": [
    "### Many built-in callbacks are available\n",
    "### 一些可用的内置回调函数\n",
    "\n",
    "There are many built-in callbacks already available in Keras, such as:\n",
    "1. ModelCheckpoint: Periodically save the model.\n",
    "2. EarlyStopping: Stop training when training is no longer improving the validation metrics.\n",
    "3. TensorBoard: periodically write model logs that can be visualized in TensorBoard (more details in the section \"Visualization\").\n",
    "4. CSVLogger: streams loss and metrics data to a CSV file.\n",
    "5. etc.\n",
    "\n",
    "See the [callbacks documentation](https://www.tensorflow.org/api_docs/python/tf/keras/callbacks/) for the complete list.\n",
    "\n",
    "这里是一些Keras内置的回调函数：\n",
    "1. ModelCheckpoint：周期性的保存模型\n",
    "2. EarlyStopping：停止训练当训练不再提升验证指标\n",
    "3. TensorBoard：周期性的记录模型日志并在TensorBoard中显示（更多细节参见“可视化”部分）\n",
    "4. CSVLogger：将损失和指标数据保存为CSV文件\n",
    "5. 其他\n",
    "\n",
    "通过[回调函数文档](https://www.tensorflow.org/api_docs/python/tf/keras/callbacks/)来查阅完整的函数列表"
   ]
  },
  {
   "cell_type": "markdown",
   "metadata": {},
   "source": [
    "### Writing your own callback\n",
    "### 编写你自己的回调函数\n",
    "You can create a custom callback by extending the base class keras.callbacks.Callback. A callback has access to its associated model through the class property self.model.\n",
    "\n",
    "Make sure to read the [complete guide to writing custom callbacks](https://www.tensorflow.org/guide/keras/custom_callback/).\n",
    "\n",
    "Here's a simple example saving a list of per-batch loss values during training:\n",
    "\n",
    "你可以创建自定义的回调函数来扩充keras.callbacks.Callback类，一个回调函数可以通过类数据self.model来关联模型\n",
    "\n",
    "确保已经阅读了[编写自定义回调函数(完全版)](https://www.tensorflow.org/guide/keras/custom_callback/)"
   ]
  },
  {
   "cell_type": "code",
   "execution_count": 53,
   "metadata": {},
   "outputs": [],
   "source": [
    "class LossHistory(keras.callbacks.Callback):\n",
    "    def on_train_begin(self, logs):\n",
    "        self.per_batch_losses = []\n",
    "\n",
    "    def on_batch_end(self, batch, logs):\n",
    "        self.per_batch_losses.append(logs.get(\"loss\"))"
   ]
  },
  {
   "cell_type": "markdown",
   "metadata": {},
   "source": [
    "# Note 学习笔记\n",
    "\n",
    "This and following part show the power of callback object\n",
    "\n",
    "In my opinion, the thing is that each part of a model only know the inforamtion from three channels: its input, output, and argument setting. Therefore, we cannot implement some feature because the related part don't know this information it need.\n",
    "\n",
    "To solve this problem, we can uss the callback function. The callback object is a special part of models. it is not necessary for model, but it can access to all information in the model. So, we can implement some feature other method or fucntion cannot do by callback object, such as check point, learning rate decay, and logs visualization.\n",
    "\n",
    "\n",
    "这一部分以及后续部分展示了回调函数的强大功能\n",
    "\n",
    "在我看来，事情是这样的：模型的每一部分都只能从三个渠道来获取信息：他们的输入，他们的输出，以及设定的参数。因此，因为相关的模型组成部分无法获得必要的信息，我们可能无法实现某些功能。\n",
    "\n",
    "为了解决这一问题，我们可以用到回调函数。回调函数是一种特别的模型组成部分：它不是必须的，但是它可以访问模型中的所有信息，因此，我们可以通过回调函数实现哪些其他方法和函数无法实现的功能，诸如检查点设置，学习率衰退，以及模型日志的可视化。\n",
    "\n"
   ]
  },
  {
   "cell_type": "markdown",
   "metadata": {},
   "source": [
    "## Checkpointing models\n",
    "## 检查点模型\n",
    "When you're training model on relatively large datasets, it's crucial to save checkpoints of your model at frequent intervals.\n",
    "\n",
    "The easiest way to achieve this is with the ModelCheckpoint callback:\n",
    "\n",
    "当你训练一个大型数据集时，频繁的保存你的模型检查点至关重要\n",
    "\n",
    "实现这一功能的最简便的办法是使用ModelCheckpoint回调函数"
   ]
  },
  {
   "cell_type": "code",
   "execution_count": 54,
   "metadata": {},
   "outputs": [
    {
     "name": "stdout",
     "output_type": "stream",
     "text": [
      "Epoch 1/2\n",
      "625/625 [==============================] - 3s 3ms/step - loss: 0.6059 - sparse_categorical_accuracy: 0.8337 - val_loss: 0.2245 - val_sparse_categorical_accuracy: 0.9319\n",
      "\n",
      "Epoch 00001: val_loss improved from inf to 0.22450, saving model to mymodel_1\n",
      "INFO:tensorflow:Assets written to: mymodel_1\\assets\n",
      "Epoch 2/2\n",
      "625/625 [==============================] - 2s 3ms/step - loss: 0.1918 - sparse_categorical_accuracy: 0.9434 - val_loss: 0.1901 - val_sparse_categorical_accuracy: 0.9437\n",
      "\n",
      "Epoch 00002: val_loss improved from 0.22450 to 0.19015, saving model to mymodel_2\n",
      "INFO:tensorflow:Assets written to: mymodel_2\\assets\n"
     ]
    },
    {
     "data": {
      "text/plain": [
       "<tensorflow.python.keras.callbacks.History at 0x1dc88fce910>"
      ]
     },
     "execution_count": 54,
     "metadata": {},
     "output_type": "execute_result"
    }
   ],
   "source": [
    "model = get_compiled_model()\n",
    "\n",
    "callbacks = [\n",
    "    keras.callbacks.ModelCheckpoint(\n",
    "        # Path where to save the model\n",
    "        # 保存路径\n",
    "        # The two parameters below mean that we will overwrite\n",
    "        # the current checkpoint if and only if\n",
    "        # the `val_loss` score has improved.\n",
    "        # 以下两个参数意味着当模型指标（`val_loss` ）提升时，我们将覆盖最近的检查点\n",
    "        # The saved model name will include the current epoch.\n",
    "        # 保存的模型名称中包含当前的训练次数\n",
    "        filepath=\"mymodel_{epoch}\",\n",
    "        save_best_only=True,  # Only save a model if `val_loss` has improved.\n",
    "        monitor=\"val_loss\",\n",
    "        verbose=1,\n",
    "    )\n",
    "]\n",
    "model.fit(\n",
    "    x_train, y_train, epochs=2, batch_size=64, callbacks=callbacks, validation_split=0.2\n",
    ")"
   ]
  },
  {
   "cell_type": "markdown",
   "metadata": {},
   "source": [
    "The ModelCheckpoint callback can be used to implement fault-tolerance: the ability to restart training from the last saved state of the model in case training gets randomly interrupted. Here's a basic example:\n",
    "\n",
    "\n",
    "ModelCheckpoint回调函数可以用于实现模型的容错性：从上一次保存的状态继续训练模型以防止训练过程被随机打断。以下是一个基本示例"
   ]
  },
  {
   "cell_type": "code",
   "execution_count": 55,
   "metadata": {},
   "outputs": [
    {
     "name": "stdout",
     "output_type": "stream",
     "text": [
      "Creating a new model\n",
      "  87/1563 [>.............................] - ETA: 4s - loss: 1.5473 - sparse_categorical_accuracy: 0.5351INFO:tensorflow:Assets written to: ./ckpt\\ckpt-loss=1.05\\assets\n",
      " 177/1563 [==>...........................] - ETA: 19s - loss: 1.2287 - sparse_categorical_accuracy: 0.6377INFO:tensorflow:Assets written to: ./ckpt\\ckpt-loss=0.73\\assets\n",
      " 298/1563 [====>.........................] - ETA: 21s - loss: 1.0099 - sparse_categorical_accuracy: 0.7058INFO:tensorflow:Assets written to: ./ckpt\\ckpt-loss=0.62\\assets\n",
      " 397/1563 [======>.......................] - ETA: 24s - loss: 0.9028 - sparse_categorical_accuracy: 0.7383INFO:tensorflow:Assets written to: ./ckpt\\ckpt-loss=0.54\\assets\n",
      " 485/1563 [========>.....................] - ETA: 23s - loss: 0.8336 - sparse_categorical_accuracy: 0.7590INFO:tensorflow:Assets written to: ./ckpt\\ckpt-loss=0.49\\assets\n",
      " 592/1563 [==========>...................] - ETA: 22s - loss: 0.7688 - sparse_categorical_accuracy: 0.7781INFO:tensorflow:Assets written to: ./ckpt\\ckpt-loss=0.45\\assets\n",
      " 697/1563 [============>.................] - ETA: 20s - loss: 0.7194 - sparse_categorical_accuracy: 0.7925INFO:tensorflow:Assets written to: ./ckpt\\ckpt-loss=0.43\\assets\n",
      " 788/1563 [==============>...............] - ETA: 18s - loss: 0.6844 - sparse_categorical_accuracy: 0.8027INFO:tensorflow:Assets written to: ./ckpt\\ckpt-loss=0.41\\assets\n",
      " 894/1563 [================>.............] - ETA: 15s - loss: 0.6504 - sparse_categorical_accuracy: 0.8125INFO:tensorflow:Assets written to: ./ckpt\\ckpt-loss=0.39\\assets\n",
      " 981/1563 [=================>............] - ETA: 14s - loss: 0.6266 - sparse_categorical_accuracy: 0.8194INFO:tensorflow:Assets written to: ./ckpt\\ckpt-loss=0.37\\assets\n",
      "1096/1563 [====================>.........] - ETA: 11s - loss: 0.5993 - sparse_categorical_accuracy: 0.8273INFO:tensorflow:Assets written to: ./ckpt\\ckpt-loss=0.36\\assets\n",
      "1188/1563 [=====================>........] - ETA: 9s - loss: 0.5803 - sparse_categorical_accuracy: 0.8328INFO:tensorflow:Assets written to: ./ckpt\\ckpt-loss=0.35\\assets\n",
      "1295/1563 [=======================>......] - ETA: 6s - loss: 0.5605 - sparse_categorical_accuracy: 0.8385INFO:tensorflow:Assets written to: ./ckpt\\ckpt-loss=0.33\\assets\n",
      "1389/1563 [=========================>....] - ETA: 4s - loss: 0.5449 - sparse_categorical_accuracy: 0.8430INFO:tensorflow:Assets written to: ./ckpt\\ckpt-loss=0.33\\assets\n",
      "1495/1563 [===========================>..] - ETA: 1s - loss: 0.5292 - sparse_categorical_accuracy: 0.8475INFO:tensorflow:Assets written to: ./ckpt\\ckpt-loss=0.32\\assets\n",
      "1563/1563 [==============================] - 41s 26ms/step - loss: 0.5197 - sparse_categorical_accuracy: 0.8502\n"
     ]
    },
    {
     "data": {
      "text/plain": [
       "<tensorflow.python.keras.callbacks.History at 0x1dc8a781880>"
      ]
     },
     "execution_count": 55,
     "metadata": {},
     "output_type": "execute_result"
    }
   ],
   "source": [
    "import os\n",
    "\n",
    "# Prepare a directory to store all the checkpoints.\n",
    "# 准备一个字典来储存所有的检查点\n",
    "checkpoint_dir = \"./ckpt\"\n",
    "if not os.path.exists(checkpoint_dir):\n",
    "    os.makedirs(checkpoint_dir)\n",
    "\n",
    "\n",
    "def make_or_restore_model():\n",
    "    # Either restore the latest model, or create a fresh one\n",
    "    # 恢复最近的模型，或者在没有检查点可用时，创造一个新的模型\n",
    "    # if there is no checkpoint available.\n",
    "    checkpoints = [checkpoint_dir + \"/\" + name for name in os.listdir(checkpoint_dir)]\n",
    "    if checkpoints:\n",
    "        latest_checkpoint = max(checkpoints, key=os.path.getctime)\n",
    "        print(\"Restoring from\", latest_checkpoint)\n",
    "        return keras.models.load_model(latest_checkpoint)\n",
    "    print(\"Creating a new model\")\n",
    "    return get_compiled_model()\n",
    "\n",
    "\n",
    "model = make_or_restore_model()\n",
    "callbacks = [\n",
    "    # This callback saves a SavedModel every 100 batches.\n",
    "    # We include the training loss in the saved model name.\n",
    "    # 这个回调函数会每经过100个批量数据就保存一次模型，保存的模型名称中包含训练集损失\n",
    "    keras.callbacks.ModelCheckpoint(\n",
    "        filepath=checkpoint_dir + \"/ckpt-loss={loss:.2f}\", save_freq=100\n",
    "    )\n",
    "]\n",
    "model.fit(x_train, y_train, epochs=1, callbacks=callbacks)"
   ]
  },
  {
   "cell_type": "markdown",
   "metadata": {},
   "source": [
    "You call also write your own callback for saving and restoring models.\n",
    "\n",
    "For a complete guide on serialization and saving, see [the guide to saving and serializing Models](https://www.tensorflow.org/guide/keras/save_and_serialize/).\n",
    "\n",
    "你也可以自己编写回调函数来保存和回复模型\n",
    "\n",
    "要保证的序列化和保存（模型），请参考[这边指南](https://www.tensorflow.org/guide/keras/save_and_serialize/)"
   ]
  },
  {
   "cell_type": "markdown",
   "metadata": {},
   "source": [
    "## Using learning rate schedules\n",
    "## 使用学习率设定函数\n",
    "A common pattern when training deep learning models is to gradually reduce the learning as training progresses. This is generally known as \"learning rate decay\".\n",
    "\n",
    "The learning decay schedule could be static (fixed in advance, as a function of the current epoch or the current batch index), or dynamic (responding to the current behavior of the model, in particular the validation loss).\n",
    "\n",
    "一个训练深度学习模型的常见范式是逐步减少学习率，即学习率衰减\n",
    "\n",
    "学习率衰减函数可是静态（开始是固定的学习率，类似一个基于最近的训练次数和批量次数的函数）或者动态的（对模型最近的行为产生反应，一般而言是对验证集损失产生反应）"
   ]
  },
  {
   "cell_type": "markdown",
   "metadata": {},
   "source": [
    "### Passing a schedule to an optimizer\n",
    "### 传递一个设定函数给优化器\n",
    "You can easily use a static learning rate decay schedule by passing a schedule object as the learning_rate argument in your optimizer:\n",
    "\n",
    "你可以轻易地将静态学习率衰减函数作为learning_rate参数传递给优化器"
   ]
  },
  {
   "cell_type": "code",
   "execution_count": 56,
   "metadata": {},
   "outputs": [],
   "source": [
    "initial_learning_rate = 0.1\n",
    "lr_schedule = keras.optimizers.schedules.ExponentialDecay(\n",
    "    initial_learning_rate, decay_steps=100000, decay_rate=0.96, staircase=True\n",
    ")\n",
    "\n",
    "optimizer = keras.optimizers.RMSprop(learning_rate=lr_schedule)"
   ]
  },
  {
   "cell_type": "markdown",
   "metadata": {},
   "source": [
    "Several built-in schedules are available: ExponentialDecay, PiecewiseConstantDecay, PolynomialDecay, and InverseTimeDecay.\n",
    "\n",
    "一些内置的衰减函数：ExponentialDecay, PiecewiseConstantDecay, PolynomialDecay, and InverseTimeDecay."
   ]
  },
  {
   "cell_type": "markdown",
   "metadata": {},
   "source": [
    "### Using callbacks to implement a dynamic learning rate schedule\n",
    "### 利用回调函数应用动态学习率衰减设定函数\n",
    "A dynamic learning rate schedule (for instance, decreasing the learning rate when the validation loss is no longer improving) cannot be achieved with these schedule objects, since the optimizer does not have access to validation metrics.\n",
    "\n",
    "However, callbacks do have access to all metrics, including validation metrics! You can thus achieve this pattern by using a callback that modifies the current learning rate on the optimizer. In fact, this is even built-in as the ReduceLROnPlateau callback.\n",
    "\n",
    "动态学习率衰减设定（例如，当验证集损失不在减少时，降低学习率）无法通过设定优化器参数来实现，因为优化器不知道验证集指标\n",
    "\n",
    "然而，回调函数可以访问所有的指标，包括验证集指标！ 你可以通过使用回调函数来调整优化器中的学习率参数。实际上，这一功能已经成为了一个内置回调函数ReduceLROnPlateau"
   ]
  },
  {
   "cell_type": "markdown",
   "metadata": {},
   "source": [
    "## Visualizing loss and metrics during training\n",
    "## 训练过程中的损失和指标可视化\n",
    "The best way to keep an eye on your model during training is to use TensorBoard -- a browser-based application that you can run locally that provides you with:\n",
    "\n",
    "1. Live plots of the loss and metrics for training and evaluation\n",
    "2. (optionally) Visualizations of the histograms of your layer activations\n",
    "3. (optionally) 3D visualizations of the embedding spaces learned by your Embedding layers\n",
    "\n",
    "在训练过程中关注模型的最佳实践是使用TensorBoard函数：一个你可以在本地运行的基于浏览器的应用。这个应用可以为你提供：\n",
    "1. 为训练和验证过程绘制即时的损失和指标图像\n",
    "2. 有必要的话，可以提供激活函数的直方图\n",
    "3. 有需要的话，可以提供你的模型的潜入层的嵌入空间3D视图"
   ]
  },
  {
   "cell_type": "markdown",
   "metadata": {},
   "source": [
    "If you have installed TensorFlow with pip, you should be able to launch TensorBoard from the command line:\n",
    "如果你已经通过pip方式安装了TensorFlow，你可以通过命令行激活TensorBoard"
   ]
  },
  {
   "cell_type": "code",
   "execution_count": null,
   "metadata": {},
   "outputs": [],
   "source": [
    "tensorboard --logdir=/full_path_to_your_logs"
   ]
  },
  {
   "cell_type": "markdown",
   "metadata": {},
   "source": [
    "### Using the TensorBoard callback\n",
    "### 使用TensorBoard回调函数\n",
    "\n",
    "The easiest way to use TensorBoard with a Keras model and the fit() method is the TensorBoard callback.\n",
    "\n",
    "In the simplest case, just specify where you want the callback to write logs, and you're good to go:\n",
    "\n",
    "对于Keras模型和fit()方法而言，最便捷的调用TensorBoard的方式是使用TensorBoard回调函数\n",
    "\n",
    "在最简单的情况下，只需要指定在哪里通过回调函数记录日志就可以了："
   ]
  },
  {
   "cell_type": "code",
   "execution_count": 58,
   "metadata": {},
   "outputs": [
    {
     "data": {
      "text/plain": [
       "<tensorflow.python.keras.callbacks.TensorBoard at 0x1dc894c8580>"
      ]
     },
     "execution_count": 58,
     "metadata": {},
     "output_type": "execute_result"
    }
   ],
   "source": [
    "keras.callbacks.TensorBoard(\n",
    "    log_dir=\"/full_path_to_your_logs\",\n",
    "    histogram_freq=0,  # How often to log histogram visualizations\n",
    "    embeddings_freq=0,  # How often to log embedding visualizations\n",
    "    update_freq=\"epoch\",\n",
    ")  # How often to write logs (default: once per epoch)"
   ]
  },
  {
   "cell_type": "markdown",
   "metadata": {},
   "source": [
    "For more information, see the documentation for the TensorBoard callback."
   ]
  }
 ],
 "metadata": {
  "kernelspec": {
   "display_name": "Python 3",
   "language": "python",
   "name": "python3"
  },
  "language_info": {
   "codemirror_mode": {
    "name": "ipython",
    "version": 3
   },
   "file_extension": ".py",
   "mimetype": "text/x-python",
   "name": "python",
   "nbconvert_exporter": "python",
   "pygments_lexer": "ipython3",
   "version": "3.8.5"
  }
 },
 "nbformat": 4,
 "nbformat_minor": 4
}
